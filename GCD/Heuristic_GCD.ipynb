{
 "cells": [
  {
   "cell_type": "code",
   "execution_count": 7,
   "metadata": {},
   "outputs": [],
   "source": [
    "from sympy import *\n",
    "import tools as my"
   ]
  },
  {
   "cell_type": "code",
   "execution_count": 38,
   "metadata": {},
   "outputs": [],
   "source": [
    "def SP_interpolate(gamma, v_1, Xi):\n",
    "    e = gamma\n",
    "    G = 0\n",
    "    i = 0\n",
    "    while e != 0:\n",
    "        c = e % Xi\n",
    "        if 2*c > Xi:\n",
    "            c -= Xi\n",
    "        G += c*(v_1**i)\n",
    "        e = (e - c)//Xi\n",
    "        i += 1\n",
    "    return G.as_poly(v_1, domain=ZZ)"
   ]
  },
  {
   "cell_type": "code",
   "execution_count": 39,
   "metadata": {},
   "outputs": [],
   "source": [
    "def Heuristic_GCD(p, q):\n",
    "    global GCD_TRIES\n",
    "    if not(p.is_Poly or q.is_Poly):\n",
    "        g = my.GCD_forNum(p, q)\n",
    "        return g, p//g, q//g\n",
    "    p_cont, p = primitive(p)\n",
    "    q_cont, q = primitive(q)\n",
    "    g = my.GCD_forNum(p_cont, q_cont)\n",
    "    v_s = list(set(p.gens) & set(q.gens))\n",
    "    v_1 = v_s[0]\n",
    "    beta = 2*min(p.max_norm(), q.max_norm()) + 29\n",
    "    Xi = max(min(beta, 10000*sqrt(beta)//101), \n",
    "             2*min(p.max_norm()//abs(LC(p)), q.max_norm()//abs(LC(q))) + 2)\n",
    "    while True:\n",
    "        b1 = log(Xi, 64)*max(degree(p, v_1), degree(q, v_1))\n",
    "        if b1 > 4000:\n",
    "            raise RuntimeError('FAILURE')\n",
    "        if b1 > 400 and len(v_s) > 1:\n",
    "            # 多変数の分岐\n",
    "            pass\n",
    "            if b1 > 8000:\n",
    "                raise RuntimeError('FAILURE')\n",
    "        gamma, cofactor_p, cofactor_q = Heuristic_GCD(p.subs(v_1, Xi), q.subs(v_1, Xi))\n",
    "        gamma = SP_interpolate(gamma, v_1, Xi)\n",
    "        gamma = primitive(gamma)[1]\n",
    "        if p % gamma == 0 and q % gamma == 0:\n",
    "            return g*gamma, p//gamma, q//gamma\n",
    "        cofactor_p = SP_interpolate(cofactor_p, v_1, Xi)\n",
    "        if p % cofactor_p == 0:\n",
    "            gamma = p//cofactor_p\n",
    "            if q % gamma == 0:\n",
    "                return g*gamma, cofactor_p, q//gamma\n",
    "        cofactor_q = SP_interpolate(cofactor_q, v_1, Xi)\n",
    "        if q % cofactor_q == 0:\n",
    "            gamma = q//cofactor_q\n",
    "            if p % gamma == 0:\n",
    "                return g*gamma, p//gamma, cofactor_q\n",
    "        GCD_TRIES += 1\n",
    "        if GCD_TRIES > 6:\n",
    "            raise RuntimeError('FAILURE') \n",
    "        Xi = 73794*Xi*sqrt(sqrt(Xi))//27011"
   ]
  },
  {
   "cell_type": "code",
   "execution_count": 42,
   "metadata": {},
   "outputs": [
    {
     "name": "stdout",
     "output_type": "stream",
     "text": [
      "f(x) = Poly(3*x**30 + 13*x**29 - 3*x**28 - 9*x**27 - 38*x**26 - 8*x**25 - 2*x**24 + 10*x**23 - 3*x**22 + 42*x**21 - x**20 - 55*x**19 - 2*x**18 + 24*x**17 + 92*x**16 + 41*x**15 + 10*x**14 - 33*x**13 - 16*x**12 - 28*x**11 - 3*x**10 + 34*x**9 - 28*x**8 - 19*x**7 - 52*x**6 + 8*x**5 + 4*x**4 - 6*x**3 + 23*x**2 - 2*x - 8, x, domain='ZZ')\n",
      "\n",
      "g(x) = Poly(-2*x**30 - 7*x**29 + 9*x**28 + 4*x**27 + 27*x**26 - 3*x**25 - 15*x**24 + 7*x**23 - 22*x**22 - 74*x**21 - 19*x**20 + 47*x**19 - 14*x**18 + x**17 + 38*x**15 + 25*x**14 - 33*x**13 + 8*x**12 + 54*x**11 + 31*x**10 - 33*x**9 - 10*x**8 + 13*x**7 + 13*x**6 - 23*x**5 + 13*x**4 + 31*x**3 - 24*x**2 - 8*x + 8, x, domain='ZZ')\n",
      "\n",
      "gcd = Poly(x**20 + 4*x**19 - 3*x**18 - 3*x**17 - 3*x**16 - 5*x**15 - 5*x**14 - x**13 + 5*x**12 + 5*x**11 + 3*x**10 - 4*x**9 + 4*x**8 + 4*x**7 + 3*x**6 + 3*x**5 - x**4 + 2*x**3 - 4*x**2 - x + 2, x, domain='ZZ')\n",
      "\n"
     ]
    }
   ],
   "source": [
    "if __name__ == '__main__':\n",
    "    x = Symbol('x')\n",
    "    #f = Poly((x**2 + 11)*(x**2 + 3)*(x - 1)*(2*x - 5)*(5*x + 4), x, domain=ZZ)\n",
    "    #g = Poly(3*(x**2 + 3)*(x - 1)*(x**2 + 4), x, domain=ZZ)\n",
    "    # gcd はx**3 - x**2 + 3*x - 3\n",
    "    \n",
    "    n1 = 10; m1 = 10\n",
    "    gcd_deg = 20\n",
    "    coeffs_inf = -5; coeffs_sup = 5\n",
    "    gcd_fg = random_poly(x, gcd_deg, coeffs_inf, coeffs_sup, domain=ZZ, polys=True)\n",
    "    while True:\n",
    "        f = random_poly(x, n1, coeffs_inf, coeffs_sup, domain=ZZ, polys=True)\n",
    "        g = random_poly(x, m1, coeffs_inf, coeffs_sup, domain=ZZ, polys=True)\n",
    "        if gcd(f, g) == 1:\n",
    "            break\n",
    "    f *= gcd_fg; g *= gcd_fg\n",
    "    print('f(x) = ' + str(f) + '\\n')\n",
    "    print('g(x) = ' + str(g) + '\\n')\n",
    "    print('gcd = ' + str(gcd(f, g)) + '\\n')"
   ]
  },
  {
   "cell_type": "code",
   "execution_count": 43,
   "metadata": {},
   "outputs": [
    {
     "name": "stdout",
     "output_type": "stream",
     "text": [
      "Poly(x**20 + 4*x**19 - 3*x**18 - 3*x**17 - 3*x**16 - 5*x**15 - 5*x**14 - x**13 + 5*x**12 + 5*x**11 + 3*x**10 - 4*x**9 + 4*x**8 + 4*x**7 + 3*x**6 + 3*x**5 - x**4 + 2*x**3 - 4*x**2 - x + 2, x, domain='ZZ')\n",
      "(Poly(x**20 + 4*x**19 - 3*x**18 - 3*x**17 - 3*x**16 - 5*x**15 - 5*x**14 - x**13 + 5*x**12 + 5*x**11 + 3*x**10 - 4*x**9 + 4*x**8 + 4*x**7 + 3*x**6 + 3*x**5 - x**4 + 2*x**3 - 4*x**2 - x + 2, x, domain='ZZ'), Poly(3*x**10 + x**9 + 2*x**8 - 5*x**7 + x**5 + 5*x**4 - 4*x**3 + 2*x**2 - 3*x - 4, x, domain='ZZ'), Poly(-2*x**10 + x**9 - x**8 + 5*x**7 + x**6 - 2*x**5 + 3*x**4 + 5*x**3 - 5*x**2 - 2*x + 4, x, domain='ZZ'))\n",
      "#0.026986599999986538[sec]\n"
     ]
    }
   ],
   "source": [
    "if __name__ == '__main__':\n",
    "    import timeit\n",
    "    x = Symbol('x')\n",
    "    global GCD_TRIES\n",
    "    GCD_TRIES = 1\n",
    "    iter_num = 1\n",
    "    #f = Poly((x**2 + 11)*(x**2 + 3)*(x - 1)*(2*x - 5)*(5*x + 4), x, domain=ZZ)\n",
    "    #g = Poly(3*(x**2 + 3)*(x - 1)*(x**2 + 4), x, domain=ZZ)\n",
    "    \n",
    "    #f = Poly(3*(x**2 - 1)*(x + 7), x, domain=ZZ)\n",
    "    #g = Poly((x**2 - 1) * (x**3 + 19*x**2 - 23), x, domain=ZZ)\n",
    "    #print(f, g)\n",
    "    print(gcd(f, g))\n",
    "    print(Heuristic_GCD(f, g))\n",
    "    \n",
    "    HGCD_time = timeit.timeit(\"Heuristic_GCD(f, g)\", globals=globals(), number=iter_num)\n",
    "    print('#' + str(HGCD_time/iter_num) + '[sec]')"
   ]
  },
  {
   "cell_type": "markdown",
   "metadata": {
    "heading_collapsed": true
   },
   "source": [
    "# memo"
   ]
  },
  {
   "cell_type": "code",
   "execution_count": null,
   "metadata": {
    "hidden": true
   },
   "outputs": [],
   "source": [
    "(f/1).is_Poly"
   ]
  },
  {
   "cell_type": "code",
   "execution_count": null,
   "metadata": {
    "hidden": true
   },
   "outputs": [],
   "source": [
    "f"
   ]
  },
  {
   "cell_type": "code",
   "execution_count": null,
   "metadata": {
    "hidden": true
   },
   "outputs": [],
   "source": [
    "x = Symbol('x')\n",
    "y = Symbol('y')\n",
    "z = Symbol('z')"
   ]
  },
  {
   "cell_type": "code",
   "execution_count": null,
   "metadata": {
    "hidden": true
   },
   "outputs": [],
   "source": [
    "f = (x**2 + y).as_poly((x, y), domain=ZZ)\n",
    "g = (y + 4*z).as_poly((y, z), domain=ZZ)"
   ]
  },
  {
   "cell_type": "code",
   "execution_count": null,
   "metadata": {
    "hidden": true
   },
   "outputs": [],
   "source": [
    "f"
   ]
  },
  {
   "cell_type": "code",
   "execution_count": null,
   "metadata": {
    "hidden": true
   },
   "outputs": [],
   "source": [
    "(set(f.gens)&set(g.gens))"
   ]
  },
  {
   "cell_type": "code",
   "execution_count": null,
   "metadata": {
    "hidden": true
   },
   "outputs": [],
   "source": [
    "g.max_norm()"
   ]
  },
  {
   "cell_type": "code",
   "execution_count": null,
   "metadata": {
    "hidden": true
   },
   "outputs": [],
   "source": [
    "f"
   ]
  },
  {
   "cell_type": "code",
   "execution_count": null,
   "metadata": {
    "hidden": true
   },
   "outputs": [],
   "source": [
    "f.subs(x, 5)"
   ]
  },
  {
   "cell_type": "code",
   "execution_count": null,
   "metadata": {
    "hidden": true
   },
   "outputs": [],
   "source": []
  }
 ],
 "metadata": {
  "kernelspec": {
   "display_name": "Python 3",
   "language": "python",
   "name": "python3"
  },
  "language_info": {
   "codemirror_mode": {
    "name": "ipython",
    "version": 3
   },
   "file_extension": ".py",
   "mimetype": "text/x-python",
   "name": "python",
   "nbconvert_exporter": "python",
   "pygments_lexer": "ipython3",
   "version": "3.6.7"
  },
  "varInspector": {
   "cols": {
    "lenName": 16,
    "lenType": 16,
    "lenVar": 40
   },
   "kernels_config": {
    "python": {
     "delete_cmd_postfix": "",
     "delete_cmd_prefix": "del ",
     "library": "var_list.py",
     "varRefreshCmd": "print(var_dic_list())"
    },
    "r": {
     "delete_cmd_postfix": ") ",
     "delete_cmd_prefix": "rm(",
     "library": "var_list.r",
     "varRefreshCmd": "cat(var_dic_list()) "
    }
   },
   "types_to_exclude": [
    "module",
    "function",
    "builtin_function_or_method",
    "instance",
    "_Feature"
   ],
   "window_display": false
  }
 },
 "nbformat": 4,
 "nbformat_minor": 2
}
