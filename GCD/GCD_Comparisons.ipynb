{
 "cells": [
  {
   "cell_type": "code",
   "execution_count": null,
   "metadata": {},
   "outputs": [],
   "source": [
    "# Compatisons of GCD"
   ]
  },
  {
   "cell_type": "code",
   "execution_count": 1,
   "metadata": {},
   "outputs": [],
   "source": [
    "from sympy import *\n",
    "import numpy as np\n",
    "import math\n",
    "import tools as my\n",
    "import matplotlib.pyplot as plt\n",
    "import time\n",
    "import pickle"
   ]
  },
  {
   "cell_type": "code",
   "execution_count": 48,
   "metadata": {
    "scrolled": true
   },
   "outputs": [
    {
     "name": "stdout",
     "output_type": "stream",
     "text": [
      "Wall time: 3min 54s\n"
     ]
    },
    {
     "data": {
      "text/plain": [
       "Poly(3*x**4 + 2*x**3 + 3*x**2 + 3, x, domain='ZZ')"
      ]
     },
     "execution_count": 48,
     "metadata": {},
     "output_type": "execute_result"
    }
   ],
   "source": [
    "%%time\n",
    "my.GCD_byPdiv_(f, g)"
   ]
  },
  {
   "cell_type": "code",
   "execution_count": 2,
   "metadata": {},
   "outputs": [],
   "source": [
    "x = Symbol('x')\n",
    "deg = 50\n",
    "coeffs_inf, coeffs_sup = -2**64, 2**64\n",
    "f = random_poly(x, deg, coeffs_inf, coeffs_sup, domain=ZZ, polys=True)\n",
    "g = random_poly(x, deg, coeffs_inf, coeffs_sup, domain=ZZ, polys=True)\n",
    "gcd_fg = random_poly(x, int(deg*0.25), coeffs_inf, coeffs_sup, domain=ZZ, polys=True)\n",
    "f *= gcd_fg; g *= gcd_fg"
   ]
  },
  {
   "cell_type": "code",
   "execution_count": 14,
   "metadata": {},
   "outputs": [],
   "source": [
    "x = Symbol('x')\n",
    "deg = 50\n",
    "coeffs_inf, coeffs_sup = -3, 3\n",
    "f = random_poly(x, deg, coeffs_inf, coeffs_sup, domain=ZZ, polys=True)\n",
    "g = random_poly(x, deg, coeffs_inf, coeffs_sup, domain=ZZ, polys=True)\n",
    "gcd_fg = random_poly(x, int(deg*0.25), coeffs_inf, coeffs_sup, domain=ZZ, polys=True)\n",
    "f *= gcd_fg; g *= gcd_fg"
   ]
  },
  {
   "cell_type": "code",
   "execution_count": 15,
   "metadata": {},
   "outputs": [
    {
     "name": "stdout",
     "output_type": "stream",
     "text": [
      "Wall time: 998 µs\n"
     ]
    },
    {
     "data": {
      "text/plain": [
       "Poly(3*x**12 - x**11 - 3*x**9 - 3*x**8 + x**7 - 2*x**6 - x**5 + 3*x**4 + x - 1, x, domain='ZZ')"
      ]
     },
     "execution_count": 15,
     "metadata": {},
     "output_type": "execute_result"
    }
   ],
   "source": [
    "%%time\n",
    "gcd(f, g)"
   ]
  },
  {
   "cell_type": "code",
   "execution_count": 16,
   "metadata": {},
   "outputs": [
    {
     "name": "stdout",
     "output_type": "stream",
     "text": [
      "Wall time: 22.9 ms\n"
     ]
    },
    {
     "data": {
      "text/plain": [
       "Poly(3*x**12 - x**11 - 3*x**9 - 3*x**8 + x**7 - 2*x**6 - x**5 + 3*x**4 + x - 1, x, domain='ZZ')"
      ]
     },
     "execution_count": 16,
     "metadata": {},
     "output_type": "execute_result"
    }
   ],
   "source": [
    "%%time\n",
    "my.GCD_byPdiv(f, g)"
   ]
  },
  {
   "cell_type": "code",
   "execution_count": 17,
   "metadata": {},
   "outputs": [
    {
     "name": "stdout",
     "output_type": "stream",
     "text": [
      "Wall time: 685 ms\n"
     ]
    },
    {
     "data": {
      "text/plain": [
       "Poly(3*x**12 - x**11 - 3*x**9 - 3*x**8 + x**7 - 2*x**6 - x**5 + 3*x**4 + x - 1, x, domain='ZZ')"
      ]
     },
     "execution_count": 17,
     "metadata": {},
     "output_type": "execute_result"
    }
   ],
   "source": [
    "%%time\n",
    "my.GCD_bySubResultant(f, g)"
   ]
  },
  {
   "cell_type": "code",
   "execution_count": 18,
   "metadata": {},
   "outputs": [
    {
     "name": "stdout",
     "output_type": "stream",
     "text": [
      "Wall time: 1.01 s\n"
     ]
    },
    {
     "data": {
      "text/plain": [
       "Poly(3*x**12 - x**11 - 3*x**9 - 3*x**8 + x**7 - 2*x**6 - x**5 + 3*x**4 + x - 1, x, domain='ZZ')"
      ]
     },
     "execution_count": 18,
     "metadata": {},
     "output_type": "execute_result"
    }
   ],
   "source": [
    "%%time\n",
    "my.GCD_byHenselLifting(f, g)"
   ]
  },
  {
   "cell_type": "code",
   "execution_count": 19,
   "metadata": {},
   "outputs": [
    {
     "name": "stdout",
     "output_type": "stream",
     "text": [
      "Wall time: 704 ms\n"
     ]
    },
    {
     "data": {
      "text/plain": [
       "Poly(3*x**12 - x**11 - 3*x**9 - 3*x**8 + x**7 - 2*x**6 - x**5 + 3*x**4 + x - 1, x, domain='ZZ')"
      ]
     },
     "execution_count": 19,
     "metadata": {},
     "output_type": "execute_result"
    }
   ],
   "source": [
    "%%time\n",
    "my.GCD_byCRT(f, g)"
   ]
  },
  {
   "cell_type": "code",
   "execution_count": 20,
   "metadata": {},
   "outputs": [
    {
     "name": "stdout",
     "output_type": "stream",
     "text": [
      "Wall time: 103 ms\n"
     ]
    },
    {
     "data": {
      "text/plain": [
       "(Poly(3*x**12 - x**11 - 3*x**9 - 3*x**8 + x**7 - 2*x**6 - x**5 + 3*x**4 + x - 1, x, domain='ZZ'),\n",
       " Poly(x**50 + 3*x**49 - x**48 - x**47 + x**46 + 2*x**45 - x**44 + x**43 + 2*x**42 + x**41 - x**40 - 2*x**39 - 3*x**38 - 3*x**37 - 3*x**36 + 2*x**35 - 2*x**34 - x**33 + 2*x**32 + 2*x**31 - x**30 + x**29 - 3*x**28 + 2*x**26 - 3*x**25 - 3*x**24 - x**22 - 3*x**21 + x**20 - 3*x**19 + x**18 + 2*x**17 - 2*x**16 + 2*x**15 + 3*x**14 - 3*x**13 + x**12 - x**11 + 2*x**10 - 2*x**9 - 2*x**8 - x**7 + 2*x**6 + x**5 + 3*x**4 + 2*x**3 + 3*x**2 + 3*x + 2, x, domain='ZZ'),\n",
       " Poly(-3*x**50 - x**49 + 3*x**48 + 2*x**47 - x**46 - 2*x**44 + x**42 + x**41 - 3*x**39 - 3*x**38 + 3*x**37 - 2*x**36 - x**34 + x**32 + 2*x**31 - 2*x**30 - 2*x**29 - x**28 + 2*x**27 + x**26 + x**25 - 3*x**24 + 2*x**23 + 2*x**22 + x**21 - 2*x**20 - 3*x**19 - x**18 + 2*x**17 + 3*x**16 - x**15 - 3*x**14 + 3*x**13 - 3*x**12 + 2*x**11 + x**10 + x**8 + x**7 - 3*x**6 + 3*x**5 - x**4 + x**3 + 3*x**2 + 3*x - 2, x, domain='ZZ'))"
      ]
     },
     "execution_count": 20,
     "metadata": {},
     "output_type": "execute_result"
    }
   ],
   "source": [
    "%%time\n",
    "my.Heuristic_GCD(f, g)"
   ]
  },
  {
   "cell_type": "code",
   "execution_count": null,
   "metadata": {},
   "outputs": [],
   "source": []
  },
  {
   "cell_type": "code",
   "execution_count": null,
   "metadata": {},
   "outputs": [],
   "source": []
  },
  {
   "cell_type": "code",
   "execution_count": null,
   "metadata": {},
   "outputs": [],
   "source": []
  },
  {
   "cell_type": "code",
   "execution_count": null,
   "metadata": {},
   "outputs": [],
   "source": []
  },
  {
   "cell_type": "code",
   "execution_count": null,
   "metadata": {},
   "outputs": [],
   "source": []
  },
  {
   "cell_type": "code",
   "execution_count": null,
   "metadata": {},
   "outputs": [],
   "source": [
    "# 実験環境の設定\n",
    "\n",
    "###\n",
    "iter_num = 1\n",
    "gcd_deg_ratio = [0.25, 0.5, 0.75]\n",
    "step = 10\n",
    "deg_inf, deg_sup = 10, 50\n",
    "coeffs_inf, coeffs_sup = -3, 3\n",
    "deg_list = [_ for _ in range(deg_inf, deg_sup+1, step)]\n",
    "\n",
    "Poly_list_25 = []; Poly_list_50 = []; Poly_list_75 = []\n",
    "Poly_lists = [Poly_list_25, Poly_list_50, Poly_list_75]\n",
    "\n",
    "x = Symbol('x')\n",
    "###"
   ]
  },
  {
   "cell_type": "markdown",
   "metadata": {},
   "source": [
    "# prepare"
   ]
  },
  {
   "cell_type": "code",
   "execution_count": null,
   "metadata": {
    "scrolled": true
   },
   "outputs": [],
   "source": [
    "%%time\n",
    "# 多項式の生成・保存\n",
    "if True:\n",
    "    for (ratio, Poly_list) in zip(gcd_deg_ratio, Poly_lists):\n",
    "        for deg in deg_list:\n",
    "            _list = []\n",
    "            for i in range(iter_num):\n",
    "                gcd_deg = int(deg * ratio)\n",
    "                f_deg, g_deg = deg - gcd_deg, deg - gcd_deg\n",
    "                while True:\n",
    "                    f = random_poly(x, f_deg, coeffs_inf, coeffs_sup, domain=ZZ, polys=True)\n",
    "                    g = random_poly(x, g_deg, coeffs_inf, coeffs_sup, domain=ZZ, polys=True)\n",
    "                    if gcd(f, g) == 1:\n",
    "                        break\n",
    "                if gcd_deg_ratio != 0:\n",
    "                    gcd_fg = random_poly(x, gcd_deg, coeffs_inf, coeffs_sup, domain=ZZ, polys=True)\n",
    "                    f *= gcd_fg; g *= gcd_fg\n",
    "                _list.append([f, g])\n",
    "            Poly_list += [_list]\n",
    "\n",
    "    with open('Poly_lists.pickle', 'wb') as file:\n",
    "        pickle.dump(Poly_lists, file)"
   ]
  },
  {
   "cell_type": "code",
   "execution_count": null,
   "metadata": {},
   "outputs": [],
   "source": [
    "%%time\n",
    "# cache 用のprimeの呼び出し(about 70 sec)\n",
    "_ = [my.my_prime(i) for i in range(3000, 4000+1)]"
   ]
  },
  {
   "cell_type": "code",
   "execution_count": null,
   "metadata": {},
   "outputs": [],
   "source": [
    "%%time\n",
    "# 実験（２５％, ５０％, ７５％）\n",
    "SP_time = []; PD_time = []; HL_time = []\n",
    "CR_time = []; RS_time = []; HU_time = []\n",
    "\n",
    "func_list = [gcd, my.GCD_byPdiv, my.GCD_byHenselLifting, my.GCD_byCRT, my.GCD_bySubResultant, my.Heuristic_GCD]\n",
    "func_time_list = [SP_time, PD_time, HL_time, CR_time, RS_time, HU_time]\n",
    "\n",
    "# percentage 25, 50, 75\n",
    "for i in range(len(Poly_lists)):\n",
    "    poly_list = Poly_lists[i]\n",
    "    # function\n",
    "    for (func, func_time) in zip(func_list, func_time_list):\n",
    "        _time = []\n",
    "        # deg = 10 to 100\n",
    "        for _polys in poly_list:\n",
    "            # [[f, g] times iter_num]\n",
    "            t1 = time.process_time()\n",
    "            for f_g in _polys:\n",
    "                f, g = f_g[0], f_g[1]\n",
    "                result = func(f, g)\n",
    "            t2 = time.process_time()\n",
    "            _time.append((t2 - t1)/iter_num)\n",
    "        func_time += [_time]\n",
    "    \n",
    "# time_list の保存\n",
    "with open('time_list.pickle', 'wb') as file:\n",
    "    pickle.dump(func_time_list, file)"
   ]
  },
  {
   "cell_type": "markdown",
   "metadata": {},
   "source": [
    "# main"
   ]
  },
  {
   "cell_type": "code",
   "execution_count": null,
   "metadata": {},
   "outputs": [],
   "source": [
    "%%time\n",
    "if False:\n",
    "    # Poly_list の読み込み(about 30 sec)\n",
    "    with open('Poly_lists.pickle', 'rb') as Poly_lists:\n",
    "        Poly_lists = pickle.load(Poly_lists)"
   ]
  },
  {
   "cell_type": "code",
   "execution_count": null,
   "metadata": {},
   "outputs": [],
   "source": [
    "%%time\n",
    "# time_list の読み込み(about 30 sec)\n",
    "with open('time_list.pickle', 'rb') as time_list:\n",
    "    time_list = pickle.load(time_list)"
   ]
  },
  {
   "cell_type": "code",
   "execution_count": null,
   "metadata": {},
   "outputs": [],
   "source": [
    "%%time\n",
    "fig = plt.figure(figsize=(7*len(gcd_deg_ratio), 7))\n",
    "label_name_list = ['Sympy original', 'pseudo division', 'Hensel lifting', \n",
    "                   'Chinese reminder theorem', 'resultant', 'heuristic']\n",
    "\n",
    "first = True\n",
    "\n",
    "for j in range(len(gcd_deg_ratio)):\n",
    "    if j == 0:\n",
    "        ax = fig.add_subplot(1, len(gcd_deg_ratio), j+1, title='%d percent' %(gcd_deg_ratio[j]*100))\n",
    "        first = False\n",
    "    else:\n",
    "        ax = fig.add_subplot(1, len(gcd_deg_ratio), j+1, title='%d percent' %(gcd_deg_ratio[j]*100), sharey=ax)\n",
    "    for (_time_list, label_name) in zip(time_list, label_name_list):\n",
    "        ax.plot(deg_list, _time_list[j], label=label_name)\n",
    "        ax.legend()\n",
    "        ax.set_yscale('log')\n",
    "        ax.set_xlabel('degree')\n",
    "        ax.set_ylabel('time[sec](log)')\n",
    "fig.tight_layout()\n",
    "fig.show()\n",
    "plt.savefig('sample.png')"
   ]
  },
  {
   "cell_type": "code",
   "execution_count": null,
   "metadata": {},
   "outputs": [],
   "source": []
  },
  {
   "cell_type": "code",
   "execution_count": null,
   "metadata": {},
   "outputs": [],
   "source": []
  },
  {
   "cell_type": "code",
   "execution_count": null,
   "metadata": {},
   "outputs": [],
   "source": []
  },
  {
   "cell_type": "code",
   "execution_count": null,
   "metadata": {},
   "outputs": [],
   "source": []
  },
  {
   "cell_type": "code",
   "execution_count": null,
   "metadata": {},
   "outputs": [],
   "source": []
  },
  {
   "cell_type": "code",
   "execution_count": null,
   "metadata": {
    "scrolled": false
   },
   "outputs": [],
   "source": [
    "if __name__ == '__main__':\n",
    "    '''\n",
    "    f, g : 同次\n",
    "    gcd  : 全体の25, 50, 75％\n",
    "    \n",
    "    '''\n",
    "    ###\n",
    "    deg_inf, deg_sup = 10, 100; # 50, 750 \n",
    "    step = 10;    # 50\n",
    "    gcd_deg_ratio = [0.25, 0.5, 0.75]\n",
    "    coeffs_inf, coeffs_sup = -3, 3; # -3, 3\n",
    "    iter_num = 25; # 25\n",
    "    ###\n",
    "    \n",
    "    deg_list = [_ for _ in range(deg_inf, deg_sup+1, step)]\n",
    "    SP_time_list = [0 for _ in range(len(deg_list))]; PD_time_list = [0 for _ in range(len(deg_list))]\n",
    "    HL_time_list = [0 for _ in range(len(deg_list))]; #CR_time_list = [0 for _ in range(len(deg_list))]\n",
    "    RS_time_list = [0 for _ in range(len(deg_list))]; HU_time_list = [0 for _ in range(len(deg_list))]\n",
    "    LOOP = 1\n",
    "    fig = plt.figure(figsize=(7*len(gcd_deg_ratio), 7))\n",
    "    x = Symbol('x')\n",
    "    for ratio in gcd_deg_ratio:\n",
    "        index = -1\n",
    "        for deg in deg_list:\n",
    "            index += 1\n",
    "            loop = 1\n",
    "            while loop <= iter_num:\n",
    "                print('\\r[ratio]%d , [deg]%d , [loop]%d' % (ratio*100, deg, loop), end='')\n",
    "                gcd_deg = int(deg * ratio)\n",
    "                f_deg, g_deg = int(deg * (1 - ratio)), int(deg * (1 - ratio))\n",
    "                while True:\n",
    "                    f = random_poly(x, f_deg, coeffs_inf, coeffs_sup, domain=ZZ, polys=True)\n",
    "                    g = random_poly(x, g_deg, coeffs_inf, coeffs_sup, domain=ZZ, polys=True)\n",
    "                    if gcd(f, g) == 1:\n",
    "                        break\n",
    "                if gcd_deg_ratio != 0:\n",
    "                    gcd_fg = random_poly(x, gcd_deg, coeffs_inf, coeffs_sup, domain=ZZ, polys=True)\n",
    "                    f *= gcd_fg; g *= gcd_fg\n",
    "\n",
    "                # heuristic\n",
    "                try:\n",
    "                    t1 = time.time()\n",
    "                    result = my.Heuristic_GCD(f, g)\n",
    "                    t2 = time.time()\n",
    "                except:\n",
    "                    continue\n",
    "                HU_time_list[index] += t2 - t1\n",
    "\n",
    "                # Sympy\n",
    "                t1 = time.time()\n",
    "                result = gcd(f, g)\n",
    "                t2 = time.time()\n",
    "                SP_time_list[index] += t2 - t1\n",
    "\n",
    "                # pseudo division\n",
    "                t1 = time.time()\n",
    "                result = my.GCD_byPdiv(f, g)\n",
    "                t2 = time.time()\n",
    "                PD_time_list[index] += t2 - t1\n",
    "                \n",
    "                # hensel lifting\n",
    "                t1 = time.time()\n",
    "                result = my.GCD_byHenselLifting(f, g)\n",
    "                t2 = time.time()\n",
    "                HL_time_list[index] += t2 - t1\n",
    "                \n",
    "                # Chineses reminder theorem\n",
    "                #t1 = time.time()\n",
    "                #result = my.GCD_byCRT(f, g)\n",
    "                #t2 = time.time()\n",
    "                #CR_time_list[index] += t2 - t1\n",
    "                \n",
    "                # resultant\n",
    "                t1 = time.time()\n",
    "                result = my.GCD_bySubResultant(f, g)\n",
    "                t2 = time.time()\n",
    "                RS_time_list[index] += t2 - t1\n",
    "\n",
    "                loop += 1\n",
    "\n",
    "        SP_time_list = [SP_time/iter_num for SP_time in SP_time_list]; PD_time_list = [PD_time/iter_num for PD_time in PD_time_list]\n",
    "        HL_time_list = [HL_time/iter_num for HL_time in HL_time_list]; #CR_time_list = [CR_time/iter_num for CR_time in CR_time_list]\n",
    "        RS_time_list = [RS_time/iter_num for RS_time in RS_time_list]; HU_time_list = [HU_time/iter_num for HU_time in HU_time_list]\n",
    "\n",
    "        #fig, ax = plt.subplots(1, len(gcd_deg_ratio), figsize=(5*len(gcd_deg_ratio), 5))\n",
    "        #fig = plt.figure(figsize=(5*len(gcd_deg_ratio), 5))\n",
    "        if LOOP == 1:\n",
    "            ax = fig.add_subplot(1, len(gcd_deg_ratio), LOOP, title='%d percent' %(ratio*100))\n",
    "        else:\n",
    "            ax = fig.add_subplot(1, len(gcd_deg_ratio), LOOP, title='%d percent' %(ratio*100), sharey=ax)\n",
    "        ax.plot(deg_list, SP_time_list, label='Sympy(gcd())')\n",
    "        ax.plot(deg_list, PD_time_list, label='pseudo division')\n",
    "        ax.plot(deg_list, HL_time_list, label='Hensel lifting')\n",
    "        #ax.plot(deg_list, CR_time_list, label='Chinese reminder theorem')\n",
    "        ax.plot(deg_list, RS_time_list, label='resultant')\n",
    "        ax.plot(deg_list, HU_time_list, label='heuristic')\n",
    "        ax.legend()\n",
    "        ax.set_yscale('log')\n",
    "        ax.set_xlabel('degree')\n",
    "        ax.set_ylabel('time [sec](log scale)')\n",
    "        LOOP += 1\n",
    "    \n",
    "    fig.tight_layout()\n",
    "    fig.show()\n",
    "    plt.savefig('GCD_samedeg_graph.png')"
   ]
  },
  {
   "cell_type": "code",
   "execution_count": 4,
   "metadata": {
    "scrolled": true
   },
   "outputs": [
    {
     "name": "stdout",
     "output_type": "stream",
     "text": [
      "[ratio]25 , [deg]30 , [loop]1"
     ]
    },
    {
     "ename": "KeyboardInterrupt",
     "evalue": "",
     "output_type": "error",
     "traceback": [
      "\u001b[1;31m---------------------------------------------------------------------------\u001b[0m",
      "\u001b[1;31mKeyboardInterrupt\u001b[0m                         Traceback (most recent call last)",
      "\u001b[1;32m<ipython-input-4-7b0262250e64>\u001b[0m in \u001b[0;36m<module>\u001b[1;34m\u001b[0m\n\u001b[0;32m     39\u001b[0m                 \u001b[1;31m# pseudo division_\u001b[0m\u001b[1;33m\u001b[0m\u001b[1;33m\u001b[0m\u001b[1;33m\u001b[0m\u001b[0m\n\u001b[0;32m     40\u001b[0m                 \u001b[0mt1\u001b[0m \u001b[1;33m=\u001b[0m \u001b[0mtime\u001b[0m\u001b[1;33m.\u001b[0m\u001b[0mtime\u001b[0m\u001b[1;33m(\u001b[0m\u001b[1;33m)\u001b[0m\u001b[1;33m\u001b[0m\u001b[1;33m\u001b[0m\u001b[0m\n\u001b[1;32m---> 41\u001b[1;33m                 \u001b[0mresult\u001b[0m \u001b[1;33m=\u001b[0m \u001b[0mmy\u001b[0m\u001b[1;33m.\u001b[0m\u001b[0mGCD_byPdiv_\u001b[0m\u001b[1;33m(\u001b[0m\u001b[0mf\u001b[0m\u001b[1;33m,\u001b[0m \u001b[0mg\u001b[0m\u001b[1;33m)\u001b[0m\u001b[1;33m\u001b[0m\u001b[1;33m\u001b[0m\u001b[0m\n\u001b[0m\u001b[0;32m     42\u001b[0m                 \u001b[0mt2\u001b[0m \u001b[1;33m=\u001b[0m \u001b[0mtime\u001b[0m\u001b[1;33m.\u001b[0m\u001b[0mtime\u001b[0m\u001b[1;33m(\u001b[0m\u001b[1;33m)\u001b[0m\u001b[1;33m\u001b[0m\u001b[1;33m\u001b[0m\u001b[0m\n\u001b[0;32m     43\u001b[0m                 \u001b[0m_PD_time_list\u001b[0m\u001b[1;33m[\u001b[0m\u001b[0mindex\u001b[0m\u001b[1;33m]\u001b[0m \u001b[1;33m+=\u001b[0m \u001b[0mt2\u001b[0m \u001b[1;33m-\u001b[0m \u001b[0mt1\u001b[0m\u001b[1;33m\u001b[0m\u001b[1;33m\u001b[0m\u001b[0m\n",
      "\u001b[1;32m~\\Documents\\__SEMINOR__\\ComputerAlgebra\\CH03_GCD\\tools.py\u001b[0m in \u001b[0;36mGCD_byPdiv_\u001b[1;34m(f, g)\u001b[0m\n\u001b[0;32m     71\u001b[0m     \u001b[0mcont2\u001b[0m\u001b[1;33m,\u001b[0m \u001b[0mF2\u001b[0m \u001b[1;33m=\u001b[0m \u001b[0mprimitive\u001b[0m\u001b[1;33m(\u001b[0m\u001b[0mg\u001b[0m\u001b[1;33m)\u001b[0m\u001b[1;33m\u001b[0m\u001b[1;33m\u001b[0m\u001b[0m\n\u001b[0;32m     72\u001b[0m     \u001b[1;32mwhile\u001b[0m \u001b[0mF2\u001b[0m \u001b[1;33m!=\u001b[0m \u001b[1;36m0\u001b[0m\u001b[1;33m:\u001b[0m\u001b[1;33m\u001b[0m\u001b[1;33m\u001b[0m\u001b[0m\n\u001b[1;32m---> 73\u001b[1;33m         \u001b[0mF1\u001b[0m\u001b[1;33m,\u001b[0m \u001b[0mF2\u001b[0m \u001b[1;33m=\u001b[0m \u001b[0mF2\u001b[0m\u001b[1;33m,\u001b[0m \u001b[0mprem\u001b[0m\u001b[1;33m(\u001b[0m\u001b[0mF1\u001b[0m\u001b[1;33m,\u001b[0m \u001b[0mF2\u001b[0m\u001b[1;33m)\u001b[0m\u001b[1;33m\u001b[0m\u001b[1;33m\u001b[0m\u001b[0m\n\u001b[0m\u001b[0;32m     74\u001b[0m     \u001b[0mresult\u001b[0m \u001b[1;33m=\u001b[0m \u001b[0mMul\u001b[0m\u001b[1;33m(\u001b[0m\u001b[0mGCD_forNum\u001b[0m\u001b[1;33m(\u001b[0m\u001b[0mcont1\u001b[0m\u001b[1;33m,\u001b[0m \u001b[0mcont2\u001b[0m\u001b[1;33m)\u001b[0m\u001b[1;33m,\u001b[0m \u001b[0mprimitive\u001b[0m\u001b[1;33m(\u001b[0m\u001b[0mF1\u001b[0m\u001b[1;33m)\u001b[0m\u001b[1;33m[\u001b[0m\u001b[1;36m1\u001b[0m\u001b[1;33m]\u001b[0m\u001b[1;33m,\u001b[0m \u001b[0mdomain\u001b[0m\u001b[1;33m=\u001b[0m\u001b[0mf\u001b[0m\u001b[1;33m.\u001b[0m\u001b[0mdomain\u001b[0m\u001b[1;33m)\u001b[0m\u001b[1;33m\u001b[0m\u001b[1;33m\u001b[0m\u001b[0m\n\u001b[0;32m     75\u001b[0m     \u001b[1;32mif\u001b[0m \u001b[0mLC\u001b[0m\u001b[1;33m(\u001b[0m\u001b[0mresult\u001b[0m\u001b[1;33m)\u001b[0m \u001b[1;33m<\u001b[0m \u001b[1;36m0\u001b[0m\u001b[1;33m:\u001b[0m\u001b[1;33m\u001b[0m\u001b[1;33m\u001b[0m\u001b[0m\n",
      "\u001b[1;32m~\\Anaconda3\\lib\\site-packages\\sympy\\polys\\polytools.py\u001b[0m in \u001b[0;36mprem\u001b[1;34m(f, g, *gens, **args)\u001b[0m\n\u001b[0;32m   4682\u001b[0m         \u001b[1;32mraise\u001b[0m \u001b[0mComputationFailed\u001b[0m\u001b[1;33m(\u001b[0m\u001b[1;34m'prem'\u001b[0m\u001b[1;33m,\u001b[0m \u001b[1;36m2\u001b[0m\u001b[1;33m,\u001b[0m \u001b[0mexc\u001b[0m\u001b[1;33m)\u001b[0m\u001b[1;33m\u001b[0m\u001b[1;33m\u001b[0m\u001b[0m\n\u001b[0;32m   4683\u001b[0m \u001b[1;33m\u001b[0m\u001b[0m\n\u001b[1;32m-> 4684\u001b[1;33m     \u001b[0mr\u001b[0m \u001b[1;33m=\u001b[0m \u001b[0mF\u001b[0m\u001b[1;33m.\u001b[0m\u001b[0mprem\u001b[0m\u001b[1;33m(\u001b[0m\u001b[0mG\u001b[0m\u001b[1;33m)\u001b[0m\u001b[1;33m\u001b[0m\u001b[1;33m\u001b[0m\u001b[0m\n\u001b[0m\u001b[0;32m   4685\u001b[0m \u001b[1;33m\u001b[0m\u001b[0m\n\u001b[0;32m   4686\u001b[0m     \u001b[1;32mif\u001b[0m \u001b[1;32mnot\u001b[0m \u001b[0mopt\u001b[0m\u001b[1;33m.\u001b[0m\u001b[0mpolys\u001b[0m\u001b[1;33m:\u001b[0m\u001b[1;33m\u001b[0m\u001b[1;33m\u001b[0m\u001b[0m\n",
      "\u001b[1;32m~\\Anaconda3\\lib\\site-packages\\sympy\\polys\\polytools.py\u001b[0m in \u001b[0;36mprem\u001b[1;34m(f, g)\u001b[0m\n\u001b[0;32m   1515\u001b[0m \u001b[1;33m\u001b[0m\u001b[0m\n\u001b[0;32m   1516\u001b[0m         \u001b[1;32mif\u001b[0m \u001b[0mhasattr\u001b[0m\u001b[1;33m(\u001b[0m\u001b[0mf\u001b[0m\u001b[1;33m.\u001b[0m\u001b[0mrep\u001b[0m\u001b[1;33m,\u001b[0m \u001b[1;34m'prem'\u001b[0m\u001b[1;33m)\u001b[0m\u001b[1;33m:\u001b[0m\u001b[1;33m\u001b[0m\u001b[1;33m\u001b[0m\u001b[0m\n\u001b[1;32m-> 1517\u001b[1;33m             \u001b[0mresult\u001b[0m \u001b[1;33m=\u001b[0m \u001b[0mF\u001b[0m\u001b[1;33m.\u001b[0m\u001b[0mprem\u001b[0m\u001b[1;33m(\u001b[0m\u001b[0mG\u001b[0m\u001b[1;33m)\u001b[0m\u001b[1;33m\u001b[0m\u001b[1;33m\u001b[0m\u001b[0m\n\u001b[0m\u001b[0;32m   1518\u001b[0m         \u001b[1;32melse\u001b[0m\u001b[1;33m:\u001b[0m  \u001b[1;31m# pragma: no cover\u001b[0m\u001b[1;33m\u001b[0m\u001b[1;33m\u001b[0m\u001b[0m\n\u001b[0;32m   1519\u001b[0m             \u001b[1;32mraise\u001b[0m \u001b[0mOperationNotSupported\u001b[0m\u001b[1;33m(\u001b[0m\u001b[0mf\u001b[0m\u001b[1;33m,\u001b[0m \u001b[1;34m'prem'\u001b[0m\u001b[1;33m)\u001b[0m\u001b[1;33m\u001b[0m\u001b[1;33m\u001b[0m\u001b[0m\n",
      "\u001b[1;32m~\\Anaconda3\\lib\\site-packages\\sympy\\polys\\polyclasses.py\u001b[0m in \u001b[0;36mprem\u001b[1;34m(f, g)\u001b[0m\n\u001b[0;32m    476\u001b[0m         \u001b[1;34m\"\"\"Polynomial pseudo-remainder of ``f`` and ``g``. \"\"\"\u001b[0m\u001b[1;33m\u001b[0m\u001b[1;33m\u001b[0m\u001b[0m\n\u001b[0;32m    477\u001b[0m         \u001b[0mlev\u001b[0m\u001b[1;33m,\u001b[0m \u001b[0mdom\u001b[0m\u001b[1;33m,\u001b[0m \u001b[0mper\u001b[0m\u001b[1;33m,\u001b[0m \u001b[0mF\u001b[0m\u001b[1;33m,\u001b[0m \u001b[0mG\u001b[0m \u001b[1;33m=\u001b[0m \u001b[0mf\u001b[0m\u001b[1;33m.\u001b[0m\u001b[0munify\u001b[0m\u001b[1;33m(\u001b[0m\u001b[0mg\u001b[0m\u001b[1;33m)\u001b[0m\u001b[1;33m\u001b[0m\u001b[1;33m\u001b[0m\u001b[0m\n\u001b[1;32m--> 478\u001b[1;33m         \u001b[1;32mreturn\u001b[0m \u001b[0mper\u001b[0m\u001b[1;33m(\u001b[0m\u001b[0mdmp_prem\u001b[0m\u001b[1;33m(\u001b[0m\u001b[0mF\u001b[0m\u001b[1;33m,\u001b[0m \u001b[0mG\u001b[0m\u001b[1;33m,\u001b[0m \u001b[0mlev\u001b[0m\u001b[1;33m,\u001b[0m \u001b[0mdom\u001b[0m\u001b[1;33m)\u001b[0m\u001b[1;33m)\u001b[0m\u001b[1;33m\u001b[0m\u001b[1;33m\u001b[0m\u001b[0m\n\u001b[0m\u001b[0;32m    479\u001b[0m \u001b[1;33m\u001b[0m\u001b[0m\n\u001b[0;32m    480\u001b[0m     \u001b[1;32mdef\u001b[0m \u001b[0mpquo\u001b[0m\u001b[1;33m(\u001b[0m\u001b[0mf\u001b[0m\u001b[1;33m,\u001b[0m \u001b[0mg\u001b[0m\u001b[1;33m)\u001b[0m\u001b[1;33m:\u001b[0m\u001b[1;33m\u001b[0m\u001b[1;33m\u001b[0m\u001b[0m\n",
      "\u001b[1;32m~\\Anaconda3\\lib\\site-packages\\sympy\\polys\\densearith.py\u001b[0m in \u001b[0;36mdmp_prem\u001b[1;34m(f, g, u, K)\u001b[0m\n\u001b[0;32m   1218\u001b[0m     \"\"\"\n\u001b[0;32m   1219\u001b[0m     \u001b[1;32mif\u001b[0m \u001b[1;32mnot\u001b[0m \u001b[0mu\u001b[0m\u001b[1;33m:\u001b[0m\u001b[1;33m\u001b[0m\u001b[1;33m\u001b[0m\u001b[0m\n\u001b[1;32m-> 1220\u001b[1;33m         \u001b[1;32mreturn\u001b[0m \u001b[0mdup_prem\u001b[0m\u001b[1;33m(\u001b[0m\u001b[0mf\u001b[0m\u001b[1;33m,\u001b[0m \u001b[0mg\u001b[0m\u001b[1;33m,\u001b[0m \u001b[0mK\u001b[0m\u001b[1;33m)\u001b[0m\u001b[1;33m\u001b[0m\u001b[1;33m\u001b[0m\u001b[0m\n\u001b[0m\u001b[0;32m   1221\u001b[0m \u001b[1;33m\u001b[0m\u001b[0m\n\u001b[0;32m   1222\u001b[0m     \u001b[0mdf\u001b[0m \u001b[1;33m=\u001b[0m \u001b[0mdmp_degree\u001b[0m\u001b[1;33m(\u001b[0m\u001b[0mf\u001b[0m\u001b[1;33m,\u001b[0m \u001b[0mu\u001b[0m\u001b[1;33m)\u001b[0m\u001b[1;33m\u001b[0m\u001b[1;33m\u001b[0m\u001b[0m\n",
      "\u001b[1;32m~\\Anaconda3\\lib\\site-packages\\sympy\\polys\\densearith.py\u001b[0m in \u001b[0;36mdup_prem\u001b[1;34m(f, g, K)\u001b[0m\n\u001b[0;32m   1085\u001b[0m         \u001b[0mj\u001b[0m\u001b[1;33m,\u001b[0m \u001b[0mN\u001b[0m \u001b[1;33m=\u001b[0m \u001b[0mdr\u001b[0m \u001b[1;33m-\u001b[0m \u001b[0mdg\u001b[0m\u001b[1;33m,\u001b[0m \u001b[0mN\u001b[0m \u001b[1;33m-\u001b[0m \u001b[1;36m1\u001b[0m\u001b[1;33m\u001b[0m\u001b[1;33m\u001b[0m\u001b[0m\n\u001b[0;32m   1086\u001b[0m \u001b[1;33m\u001b[0m\u001b[0m\n\u001b[1;32m-> 1087\u001b[1;33m         \u001b[0mR\u001b[0m \u001b[1;33m=\u001b[0m \u001b[0mdup_mul_ground\u001b[0m\u001b[1;33m(\u001b[0m\u001b[0mr\u001b[0m\u001b[1;33m,\u001b[0m \u001b[0mlc_g\u001b[0m\u001b[1;33m,\u001b[0m \u001b[0mK\u001b[0m\u001b[1;33m)\u001b[0m\u001b[1;33m\u001b[0m\u001b[1;33m\u001b[0m\u001b[0m\n\u001b[0m\u001b[0;32m   1088\u001b[0m         \u001b[0mG\u001b[0m \u001b[1;33m=\u001b[0m \u001b[0mdup_mul_term\u001b[0m\u001b[1;33m(\u001b[0m\u001b[0mg\u001b[0m\u001b[1;33m,\u001b[0m \u001b[0mlc_r\u001b[0m\u001b[1;33m,\u001b[0m \u001b[0mj\u001b[0m\u001b[1;33m,\u001b[0m \u001b[0mK\u001b[0m\u001b[1;33m)\u001b[0m\u001b[1;33m\u001b[0m\u001b[1;33m\u001b[0m\u001b[0m\n\u001b[0;32m   1089\u001b[0m         \u001b[0mr\u001b[0m \u001b[1;33m=\u001b[0m \u001b[0mdup_sub\u001b[0m\u001b[1;33m(\u001b[0m\u001b[0mR\u001b[0m\u001b[1;33m,\u001b[0m \u001b[0mG\u001b[0m\u001b[1;33m,\u001b[0m \u001b[0mK\u001b[0m\u001b[1;33m)\u001b[0m\u001b[1;33m\u001b[0m\u001b[1;33m\u001b[0m\u001b[0m\n",
      "\u001b[1;32m~\\Anaconda3\\lib\\site-packages\\sympy\\polys\\densearith.py\u001b[0m in \u001b[0;36mdup_mul_ground\u001b[1;34m(f, c, K)\u001b[0m\n\u001b[0;32m    273\u001b[0m         \u001b[1;32mreturn\u001b[0m \u001b[1;33m[\u001b[0m\u001b[1;33m]\u001b[0m\u001b[1;33m\u001b[0m\u001b[1;33m\u001b[0m\u001b[0m\n\u001b[0;32m    274\u001b[0m     \u001b[1;32melse\u001b[0m\u001b[1;33m:\u001b[0m\u001b[1;33m\u001b[0m\u001b[1;33m\u001b[0m\u001b[0m\n\u001b[1;32m--> 275\u001b[1;33m         \u001b[1;32mreturn\u001b[0m \u001b[1;33m[\u001b[0m \u001b[0mcf\u001b[0m \u001b[1;33m*\u001b[0m \u001b[0mc\u001b[0m \u001b[1;32mfor\u001b[0m \u001b[0mcf\u001b[0m \u001b[1;32min\u001b[0m \u001b[0mf\u001b[0m \u001b[1;33m]\u001b[0m\u001b[1;33m\u001b[0m\u001b[1;33m\u001b[0m\u001b[0m\n\u001b[0m\u001b[0;32m    276\u001b[0m \u001b[1;33m\u001b[0m\u001b[0m\n\u001b[0;32m    277\u001b[0m \u001b[1;33m\u001b[0m\u001b[0m\n",
      "\u001b[1;32m~\\Anaconda3\\lib\\site-packages\\sympy\\polys\\densearith.py\u001b[0m in \u001b[0;36m<listcomp>\u001b[1;34m(.0)\u001b[0m\n\u001b[0;32m    273\u001b[0m         \u001b[1;32mreturn\u001b[0m \u001b[1;33m[\u001b[0m\u001b[1;33m]\u001b[0m\u001b[1;33m\u001b[0m\u001b[1;33m\u001b[0m\u001b[0m\n\u001b[0;32m    274\u001b[0m     \u001b[1;32melse\u001b[0m\u001b[1;33m:\u001b[0m\u001b[1;33m\u001b[0m\u001b[1;33m\u001b[0m\u001b[0m\n\u001b[1;32m--> 275\u001b[1;33m         \u001b[1;32mreturn\u001b[0m \u001b[1;33m[\u001b[0m \u001b[0mcf\u001b[0m \u001b[1;33m*\u001b[0m \u001b[0mc\u001b[0m \u001b[1;32mfor\u001b[0m \u001b[0mcf\u001b[0m \u001b[1;32min\u001b[0m \u001b[0mf\u001b[0m \u001b[1;33m]\u001b[0m\u001b[1;33m\u001b[0m\u001b[1;33m\u001b[0m\u001b[0m\n\u001b[0m\u001b[0;32m    276\u001b[0m \u001b[1;33m\u001b[0m\u001b[0m\n\u001b[0;32m    277\u001b[0m \u001b[1;33m\u001b[0m\u001b[0m\n",
      "\u001b[1;31mKeyboardInterrupt\u001b[0m: "
     ]
    },
    {
     "data": {
      "text/plain": [
       "<Figure size 1512x504 with 0 Axes>"
      ]
     },
     "metadata": {},
     "output_type": "display_data"
    }
   ],
   "source": [
    "if __name__ == '__main__':\n",
    "    '''\n",
    "    f, g : 同次\n",
    "    gcd  : 全体の25, 50, 75％\n",
    "    \n",
    "    '''\n",
    "    ###\n",
    "    deg_inf, deg_sup = 10, 100; # 50, 750 \n",
    "    step = 10;    # 50\n",
    "    gcd_deg_ratio = [0.25, 0.5, 0.75]\n",
    "    coeffs_inf, coeffs_sup = -3, 3; # -3, 3\n",
    "    iter_num = 3; # 25\n",
    "    ###\n",
    "    \n",
    "    deg_list = [_ for _ in range(deg_inf, deg_sup+1, step)]\n",
    "    _PD_time_list = [0 for _ in range(len(deg_list))]\n",
    "    PD_time_list = [0 for _ in range(len(deg_list))]\n",
    "    LOOP = 1\n",
    "    fig = plt.figure(figsize=(7*len(gcd_deg_ratio), 7))\n",
    "    x = Symbol('x')\n",
    "    for ratio in gcd_deg_ratio:\n",
    "        index = -1\n",
    "        for deg in deg_list:\n",
    "            index += 1\n",
    "            loop = 1\n",
    "            while loop <= iter_num:\n",
    "                print('\\r[ratio]%d , [deg]%d , [loop]%d' % (ratio*100, deg, loop), end='')\n",
    "                gcd_deg = int(deg * ratio)\n",
    "                f_deg, g_deg = int(deg * (1 - ratio)), int(deg * (1 - ratio))\n",
    "                while True:\n",
    "                    f = random_poly(x, f_deg, coeffs_inf, coeffs_sup, domain=ZZ, polys=True)\n",
    "                    g = random_poly(x, g_deg, coeffs_inf, coeffs_sup, domain=ZZ, polys=True)\n",
    "                    if gcd(f, g) == 1:\n",
    "                        break\n",
    "                if gcd_deg_ratio != 0:\n",
    "                    gcd_fg = random_poly(x, gcd_deg, coeffs_inf, coeffs_sup, domain=ZZ, polys=True)\n",
    "                    f *= gcd_fg; g *= gcd_fg\n",
    "\n",
    "                # pseudo division_\n",
    "                t1 = time.time()\n",
    "                result = my.GCD_byPdiv_(f, g)\n",
    "                t2 = time.time()\n",
    "                _PD_time_list[index] += t2 - t1\n",
    "                \n",
    "                # pseudo division\n",
    "                t1 = time.time()\n",
    "                result = my.GCD_byPdiv(f, g)\n",
    "                t2 = time.time()\n",
    "                PD_time_list[index] += t2 - t1\n",
    "\n",
    "                loop += 1\n",
    "\n",
    "        _PD_time_list = [PD_time/iter_num for PD_time in _PD_time_list]\n",
    "        PD_time_list = [PD_time/iter_num for PD_time in PD_time_list]\n",
    " \n",
    "\n",
    "        #fig, ax = plt.subplots(1, len(gcd_deg_ratio), figsize=(5*len(gcd_deg_ratio), 5))\n",
    "        #fig = plt.figure(figsize=(5*len(gcd_deg_ratio), 5))\n",
    "        if LOOP == 1:\n",
    "            ax = fig.add_subplot(1, len(gcd_deg_ratio), LOOP, title='%d percent' %(ratio*100))\n",
    "        else:\n",
    "            ax = fig.add_subplot(1, len(gcd_deg_ratio), LOOP, title='%d percent' %(ratio*100), sharey=ax)\n",
    "        ax.plot(deg_list, _PD_time_list, label='pseudo division')\n",
    "        ax.plot(deg_list, PD_time_list, label='pseudo division+')\n",
    "        ax.legend()\n",
    "        ax.set_yscale('log')\n",
    "        ax.set_xlabel('degree')\n",
    "        ax.set_ylabel('time [sec](log scale)')\n",
    "        LOOP += 1\n",
    "    \n",
    "    fig.tight_layout()\n",
    "    fig.show()\n",
    "    #plt.savefig('sample.png')"
   ]
  },
  {
   "cell_type": "code",
   "execution_count": null,
   "metadata": {},
   "outputs": [],
   "source": []
  },
  {
   "cell_type": "code",
   "execution_count": null,
   "metadata": {},
   "outputs": [],
   "source": []
  },
  {
   "cell_type": "code",
   "execution_count": null,
   "metadata": {},
   "outputs": [],
   "source": [
    "if __name__ == '__main__':\n",
    "    x = Symbol('x')\n",
    "    #f = Poly((x**2 + 11)*(x**2 + 3)*(x - 1)*(2*x - 5)*(5*x + 4), x, domain=ZZ)\n",
    "    #g = Poly(3*(x**2 + 3)*(x - 1)*(x**2 + 4), x, domain=ZZ)\n",
    "    # gcd はx**3 - x**2 + 3*x - 3\n",
    "    \n",
    "    n1 = 100; m1 = 100\n",
    "    gcd_deg = 20\n",
    "    coeffs_inf = -5; coeffs_sup = 5\n",
    "    gcd_fg = random_poly(x, gcd_deg, coeffs_inf, coeffs_sup, domain=ZZ, polys=True)\n",
    "    while True:\n",
    "        f = random_poly(x, n1, coeffs_inf, coeffs_sup, domain=ZZ, polys=True)\n",
    "        g = random_poly(x, m1, coeffs_inf, coeffs_sup, domain=ZZ, polys=True)\n",
    "        if gcd(f, g) == 1:\n",
    "            break\n",
    "    f *= gcd_fg; g *= gcd_fg\n",
    "    #print('f(x) = ' + str(f) + '\\n')\n",
    "    #print('g(x) = ' + str(g) + '\\n')\n",
    "    #print('gcd = ' + str(gcd(f, g)) + '\\n')"
   ]
  },
  {
   "cell_type": "code",
   "execution_count": null,
   "metadata": {},
   "outputs": [],
   "source": [
    "if __name__ == '__main__':\n",
    "    import timeit\n",
    "    iter_num = 1\n",
    "    \n",
    "    SP_time = timeit.timeit(\"gcd(f, g)\", globals=globals(), number=iter_num)\n",
    "    print('\"gcd()\" of sympy         :' + str(SP_time/iter_num) + '[sec]')\n",
    "    \n",
    "    Pdiv_time = timeit.timeit(\"my.GCD_byPdiv(f, g)\", globals=globals(), number=iter_num)\n",
    "    print('pseudo division          :' + str(Pdiv_time/iter_num) + '[sec]')\n",
    "    \n",
    "    HL_time = timeit.timeit(\"my.GCD_byHenselLifting(f, g)\", globals=globals(), number=iter_num)\n",
    "    print('Hensel lifting           :' + str(HL_time/iter_num) + '[sec]')\n",
    "    \n",
    "    #CRT_time = timeit.timeit(\"my.GCD_byCRT(f, g)\", globals=globals(), number=iter_num)\n",
    "    #print('Chinese reminder theorem :' + str(CRT_time/iter_num) + '[sec]')\n",
    "    \n",
    "    Sres_time = timeit.timeit(\"my.GCD_bySubResultant(f, g)\", globals=globals(), number=iter_num)\n",
    "    print('Subresultant             :' + str(Sres_time/iter_num) + '[sec]')\n",
    "    \n",
    "    Heu_time = timeit.timeit(\"my.Heuristic_GCD(f, g)\", globals=globals(), number=iter_num)\n",
    "    print('Heuristic GCD            :' + str(Heu_time/iter_num) + '[sec]')"
   ]
  },
  {
   "cell_type": "code",
   "execution_count": null,
   "metadata": {},
   "outputs": [],
   "source": [
    "if __name__ == '__main__':\n",
    "    import timeit\n",
    "    iter_num = 100\n",
    "    SP_time = timeit.timeit(\"gcd(f, g)\", globals=globals(), number=iter_num)\n",
    "    print('\"gcd()\" of sympy:' + str(SP_time/iter_num) + '[sec]')\n",
    "    #_Pdiv_time = timeit.timeit(\"my.GCD_byPdiv_(f, g)\", globals=globals(), number=iter_num)\n",
    "    Pdiv_time = timeit.timeit(\"my.GCD_byPdiv(f, g)\", globals=globals(), number=iter_num)\n",
    "    #print('pseudo division :' + str(_Pdiv_time/iter_num) + '[sec]')\n",
    "    print('pseudo division+:' + str(Pdiv_time/iter_num) + '[sec]')"
   ]
  },
  {
   "cell_type": "code",
   "execution_count": null,
   "metadata": {},
   "outputs": [],
   "source": []
  },
  {
   "cell_type": "code",
   "execution_count": null,
   "metadata": {},
   "outputs": [],
   "source": [
    "if __name__ == '__main__':\n",
    "    '''\n",
    "    huristicGCDの動作確認\n",
    "    \n",
    "    '''\n",
    "    success, failure = 0, 0\n",
    "    iter_num = 10000\n",
    "    except_list = []\n",
    "    x = Symbol('x')\n",
    "    for i in range(iter_num):\n",
    "        print('\\r%d' % i, end='')\n",
    "        n1 = 100; m1 = 100\n",
    "        gcd_deg = 20\n",
    "        coeffs_inf = -5; coeffs_sup = 5\n",
    "        gcd_fg = random_poly(x, gcd_deg, coeffs_inf, coeffs_sup, domain=ZZ, polys=True)\n",
    "        while True:\n",
    "            f = random_poly(x, n1, coeffs_inf, coeffs_sup, domain=ZZ, polys=True)\n",
    "            g = random_poly(x, m1, coeffs_inf, coeffs_sup, domain=ZZ, polys=True)\n",
    "            if gcd(f, g) == 1:\n",
    "                break\n",
    "        f *= gcd_fg; g *= gcd_fg\n",
    "        result = my.Heuristic_GCD(f, g)[0]\n",
    "        gcd_fg = gcd(f, g)\n",
    "        if result == gcd_fg:\n",
    "            success += 1\n",
    "        elif result == 'FAILURE':\n",
    "            failure += 1\n",
    "        else:\n",
    "            except_list += [[result, gcd_fg]]\n",
    "    print('\\n')\n",
    "    print('success :' + str(success/iter_num * 100) + '%')\n",
    "    print('failure :' + str(failure/iter_num * 100) + '%')\n",
    "    if except_list != []:\n",
    "        print(len(except_list), except_list[0:5])"
   ]
  },
  {
   "cell_type": "code",
   "execution_count": null,
   "metadata": {},
   "outputs": [],
   "source": []
  },
  {
   "cell_type": "code",
   "execution_count": null,
   "metadata": {},
   "outputs": [],
   "source": []
  }
 ],
 "metadata": {
  "kernelspec": {
   "display_name": "Python 3",
   "language": "python",
   "name": "python3"
  },
  "language_info": {
   "codemirror_mode": {
    "name": "ipython",
    "version": 3
   },
   "file_extension": ".py",
   "mimetype": "text/x-python",
   "name": "python",
   "nbconvert_exporter": "python",
   "pygments_lexer": "ipython3",
   "version": "3.6.7"
  },
  "varInspector": {
   "cols": {
    "lenName": 16,
    "lenType": 16,
    "lenVar": 40
   },
   "kernels_config": {
    "python": {
     "delete_cmd_postfix": "",
     "delete_cmd_prefix": "del ",
     "library": "var_list.py",
     "varRefreshCmd": "print(var_dic_list())"
    },
    "r": {
     "delete_cmd_postfix": ") ",
     "delete_cmd_prefix": "rm(",
     "library": "var_list.r",
     "varRefreshCmd": "cat(var_dic_list()) "
    }
   },
   "types_to_exclude": [
    "module",
    "function",
    "builtin_function_or_method",
    "instance",
    "_Feature"
   ],
   "window_display": false
  }
 },
 "nbformat": 4,
 "nbformat_minor": 2
}
