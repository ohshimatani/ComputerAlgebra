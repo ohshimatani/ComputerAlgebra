{
 "cells": [
  {
   "cell_type": "markdown",
   "metadata": {},
   "source": [
    "# check"
   ]
  },
  {
   "cell_type": "code",
   "execution_count": 69,
   "metadata": {},
   "outputs": [],
   "source": [
    "from sympy import *\n",
    "import numpy as np\n",
    "import math\n",
    "import random\n",
    "import tools as my\n",
    "import time\n",
    "\n",
    "def SquarefreeDecomposition(f):\n",
    "    if content(f) != 1:\n",
    "        raise ValueError('cont(f) != 1')\n",
    "    s = gcd(f, diff(f, f.gen))\n",
    "    if s == 1:\n",
    "        return [f]\n",
    "    t = []; u = []; v = []; F = []\n",
    "    t.append(quo(f, s)); u.append(quo(diff(f, f.gen), s))\n",
    "    v.append(u[0] - diff(t[0]))\n",
    "    i = 1\n",
    "    while t[i-1] != 1:\n",
    "        F.append(gcd(t[i-1], v[i-1]))\n",
    "        t.append(quo(t[i-1], F[i-1]))\n",
    "        u.append(quo(v[i-1], F[i-1]))\n",
    "        v.append(u[i] - diff(t[i], f.gen))\n",
    "        i = i + 1\n",
    "    return F\n",
    "\n",
    "def Berlekamp_Matrix(f):\n",
    "    # Berlekamp行列\n",
    "    \n",
    "    if LC(f) != 1:\n",
    "        raise ValueError('f(x) is not monic.')\n",
    "    if gcd(f, diff(f, f.gen, domain=f.domain)) != 1:\n",
    "        raise ValueError('f(x) is not square-free.')\n",
    "\n",
    "    x = f.gen\n",
    "    p = f.domain.characteristic()\n",
    "    m = degree(f)\n",
    "    g0 = 1\n",
    "    B = np.zeros((m, m), dtype=Integer); B[0][0] = g0\n",
    "    g1 = rem(x**p, f, domain=GF(p))\n",
    "    if g1 == g1.zero:\n",
    "        deg_g1 = 0\n",
    "    else:\n",
    "        deg_g1 = degree(g1)\n",
    "    for i in range(1, deg_g1+1):\n",
    "        B[1][i-1] = list(reversed(g1.all_coeffs()))[i]\n",
    "    g = g1\n",
    "    for i in range(2, m):\n",
    "        g = rem(g*g1, f, domain=GF(p))\n",
    "        for j in range(1, degree(g)+2):\n",
    "            B[i][j-1] = g.all_coeffs()[-j]\n",
    "    return B\n",
    "\n",
    "def f_ReducingPolynomial(f, B):\n",
    "    # f-簡約多項式（Berlekampアルゴリズムでの分離多項式）\n",
    "    \n",
    "    x = f.gen\n",
    "    p = f.domain.characteristic()\n",
    "    m = np.shape(B)[0]\n",
    "    B = B - np.identity(m, dtype=Integer)\n",
    "    for i in range(m-1):\n",
    "        if sum(B[i][i:] == 0) == m-i:\n",
    "            continue\n",
    "        j = i\n",
    "        while B[i][i] == 0:\n",
    "            j = j + 1\n",
    "            if B[i][j] != 0:\n",
    "                B[:, i], B[:, j] = B[:, j], B[:, i]    \n",
    "        recip = invert(B[i][i], p)\n",
    "        B[:, i] = (B[:, i]*recip) % p\n",
    "        for j in range(m):\n",
    "            if j == i:\n",
    "                continue\n",
    "            B[:, j] = (B[:, j] - B[i][j]*B[:, i]) % p\n",
    "    B = np.identity(m, dtype=Integer) - B\n",
    "    \n",
    "    _B = np.zeros((1, m), dtype=Integer)\n",
    "    for i in range(m):\n",
    "        if sum(B[i] == 0) == m:\n",
    "            continue\n",
    "        _B = np.append(_B, [B[i]], axis=0)\n",
    "    _B = _B[1:]\n",
    "    f_reducing_polynomials = []\n",
    "    \n",
    "    k = np.shape(_B)[0]\n",
    "    for i in range(k):\n",
    "        _f = Poly(0, x, domain=GF(p))\n",
    "        for j in range(m):\n",
    "            coeff = _B[i][j]\n",
    "            _f = _f + Poly(coeff*x**j, x, domain=GF(p))  \n",
    "        f_reducing_polynomials.append(_f)\n",
    "    return tuple(f_reducing_polynomials)\n",
    "\n",
    "def _BerlekampAlgorithm(f, output=True):\n",
    "    # Berlekampアルゴリズム（有限体上の因数分解）\n",
    "    \n",
    "    if LC(f) != 1:\n",
    "        raise ValueError('f(x) is not monic.')\n",
    "    if gcd(f, diff(f, f.gen)) != 1:\n",
    "        raise ValueError('f(x) is not square-free.')\n",
    "        \n",
    "    B = Berlekamp_Matrix(f)\n",
    "    f_reducing_polynomials = f_ReducingPolynomial(f, B)\n",
    "    \n",
    "    if output:\n",
    "        print('Berlekamp Matrix: ' + '\\n' + str(B) + '\\n')\n",
    "        print('f reducing polynomials:' + '\\n' + str(f_reducing_polynomials) + '\\n')\n",
    "\n",
    "        print('--------------------_Berlekamp Algorithm--------------------')\n",
    "    \n",
    "    # 自明なf-簡約多項式はg1へ\n",
    "    g1 = np.array([], dtype=Integer); g_list = np.array([], dtype=Integer)\n",
    "    for g in f_reducing_polynomials:\n",
    "        if degree(g) == 0:\n",
    "            g1 = np.append(g1, g)\n",
    "        else:\n",
    "            g_list = np.append(g_list, g)\n",
    "    if output:      \n",
    "        print('g1 :' + str(g1)); print('g_list :' + str(g_list))\n",
    "    \n",
    "    #if len(f_reducing_polynomials) == 1:\n",
    "    if len(g_list) == 1:\n",
    "        return f\n",
    "    else:\n",
    "        F = np.array([f])\n",
    "    alpha = range(f.domain.characteristic())\n",
    "    \n",
    "    # _F ... F', F_ ... F_tilde\n",
    "    for i in range(len(g_list)):\n",
    "        _F = np.array([], dtype=Integer)\n",
    "        for _f in F:\n",
    "            F_ = np.array([], dtype=Integer)\n",
    "            for a in alpha:\n",
    "                gcd_fg = gcd(_f, g_list[i] - a, domain=_f.domain)\n",
    "                if degree(gcd_fg) != 0:\n",
    "                    F_ = np.append(F_, gcd_fg)\n",
    "            h = Poly(1, x, domain=_f.domain)\n",
    "            for F_elements in F_:\n",
    "                h = h * F_elements\n",
    "            _f = quo(_f, h, domain=_f.domain)\n",
    "            if _f != f.one:\n",
    "                F_ = np.append(F_, _f)\n",
    "            _F = np.append(_F, F_)\n",
    "            print('_F:', _F)\n",
    "        if len(_F) == len(f_reducing_polynomials):\n",
    "            if output:\n",
    "                print('rF', _F)\n",
    "                print('_rF', tuple(_F))\n",
    "                print('------------------------------------------------------------')\n",
    "            return tuple(_F)\n",
    "        F = _F\n",
    "\n",
    "def _Zassenhaus(f):\n",
    "    if primitive(f)[0] != 1:\n",
    "        raise ValueError('f(x) is not primitive.')\n",
    "    if gcd(f, diff(f, f.gen, domain=f.domain)) != 1:\n",
    "        raise ValueError('f(x) is not square-free.')\n",
    "        \n",
    "    m = degree(f)\n",
    "    max_f = f.max_norm()\n",
    "    B_ = sqrt(m+1) * 2**m * max_f\n",
    "    B = B_ * abs(LC(f))\n",
    "    x = f.gen\n",
    "    \n",
    "    i = 10\n",
    "    while True:\n",
    "        i += 3\n",
    "        p = prime(i)\n",
    "        if (gcd(f, diff(f, x, domain=GF(p)), domain=GF(p)) == 1) and (bool(LC(f) % p)):\n",
    "            break\n",
    "    fp = Poly(f * invert(LC(f), p), x, domain=GF(p))\n",
    "    print('fp:', fp)\n",
    "    g_list = [_BerlekampAlgorithm(fp)]\n",
    "    d = math.ceil(log(2*B+1, p)) - 1\n",
    "    h_list = my.HenselLifting_MultiFactors(p, f, g_list, d, output=False)\n",
    "    s = 1\n",
    "    F = []; H = h_list; _f = f\n",
    "    while 2*s <= len(H):\n",
    "        iter_list = itertools.combinations(H, s)\n",
    "        for S in iter_list:\n",
    "            h_setminus_S = list(set(H) - set(S))\n",
    "            f_s = Poly(LC(_f) * np.prod(S), x, domain=GF(p**(d+1))).as_poly(domain=ZZ)\n",
    "            f_h_setminus_S = Poly(LC(_f) * np.prod(h_setminus_S), x, domain=GF(p**(d+1))).as_poly(domain=ZZ)\n",
    "            if f_s.l1_norm() * f_h_setminus_S.l1_norm() <= B:\n",
    "                H = h_setminus_S\n",
    "                F.append(primitive(f_s)[1])\n",
    "                _f = primitive(f_h_setminus_S)[1]\n",
    "                break\n",
    "        else:\n",
    "            s = s + 1\n",
    "    return np.append(F, _f)  \n",
    "\n",
    "def _Zassenhaus_Algorithm(f):\n",
    "    cont_f, pp_f = primitive(f)\n",
    "    sf_f_list = SquarefreeDecomposition(pp_f)\n",
    "    factors_list = []\n",
    "    i = 1\n",
    "    for sf_f in sf_f_list:\n",
    "        print(sf_f)\n",
    "        result = list(_Zassenhaus(sf_f))\n",
    "        for _ in range(i):\n",
    "            factors_list.append(result)\n",
    "        i += 1\n",
    "    factors_list[0] *= cont_f\n",
    "    return factors_list\n",
    "\n",
    "x = Symbol('x')\n",
    "f = ((x+1)**2*(2*x-3)**3*(x**2+x+9)).as_poly(domain=ZZ)"
   ]
  },
  {
   "cell_type": "code",
   "execution_count": 70,
   "metadata": {},
   "outputs": [
    {
     "name": "stdout",
     "output_type": "stream",
     "text": [
      "Poly(x**2 + x + 9, x, domain='ZZ')\n",
      "fp: Poly(x**2 + x + 9, x, modulus=41)\n",
      "Berlekamp Matrix: \n",
      "[[1 0]\n",
      " [-1 0]]\n",
      "\n",
      "f reducing polynomials:\n",
      "(Poly(1, x, modulus=41), Poly(2*x + 1, x, modulus=41))\n",
      "\n",
      "--------------------_Berlekamp Algorithm--------------------\n",
      "g1 :[Poly(1, x, modulus=41)]\n",
      "g_list :[Poly(2*x + 1, x, modulus=41)]\n"
     ]
    },
    {
     "ename": "AttributeError",
     "evalue": "module 'tools' has no attribute 'HenselLifting_MultiFactors'",
     "output_type": "error",
     "traceback": [
      "\u001b[1;31m---------------------------------------------------------------------------\u001b[0m",
      "\u001b[1;31mAttributeError\u001b[0m                            Traceback (most recent call last)",
      "\u001b[1;32m<timed eval>\u001b[0m in \u001b[0;36m<module>\u001b[1;34m\u001b[0m\n",
      "\u001b[1;32m<ipython-input-69-f82a77d35586>\u001b[0m in \u001b[0;36m_Zassenhaus_Algorithm\u001b[1;34m(f)\u001b[0m\n\u001b[0;32m    197\u001b[0m     \u001b[1;32mfor\u001b[0m \u001b[0msf_f\u001b[0m \u001b[1;32min\u001b[0m \u001b[0msf_f_list\u001b[0m\u001b[1;33m:\u001b[0m\u001b[1;33m\u001b[0m\u001b[1;33m\u001b[0m\u001b[0m\n\u001b[0;32m    198\u001b[0m         \u001b[0mprint\u001b[0m\u001b[1;33m(\u001b[0m\u001b[0msf_f\u001b[0m\u001b[1;33m)\u001b[0m\u001b[1;33m\u001b[0m\u001b[1;33m\u001b[0m\u001b[0m\n\u001b[1;32m--> 199\u001b[1;33m         \u001b[0mresult\u001b[0m \u001b[1;33m=\u001b[0m \u001b[0mlist\u001b[0m\u001b[1;33m(\u001b[0m\u001b[0m_Zassenhaus\u001b[0m\u001b[1;33m(\u001b[0m\u001b[0msf_f\u001b[0m\u001b[1;33m)\u001b[0m\u001b[1;33m)\u001b[0m\u001b[1;33m\u001b[0m\u001b[1;33m\u001b[0m\u001b[0m\n\u001b[0m\u001b[0;32m    200\u001b[0m         \u001b[1;32mfor\u001b[0m \u001b[0m_\u001b[0m \u001b[1;32min\u001b[0m \u001b[0mrange\u001b[0m\u001b[1;33m(\u001b[0m\u001b[0mi\u001b[0m\u001b[1;33m)\u001b[0m\u001b[1;33m:\u001b[0m\u001b[1;33m\u001b[0m\u001b[1;33m\u001b[0m\u001b[0m\n\u001b[0;32m    201\u001b[0m             \u001b[0mfactors_list\u001b[0m\u001b[1;33m.\u001b[0m\u001b[0mappend\u001b[0m\u001b[1;33m(\u001b[0m\u001b[0mresult\u001b[0m\u001b[1;33m)\u001b[0m\u001b[1;33m\u001b[0m\u001b[1;33m\u001b[0m\u001b[0m\n",
      "\u001b[1;32m<ipython-input-69-f82a77d35586>\u001b[0m in \u001b[0;36m_Zassenhaus\u001b[1;34m(f)\u001b[0m\n\u001b[0;32m    172\u001b[0m     \u001b[0mg_list\u001b[0m \u001b[1;33m=\u001b[0m \u001b[1;33m[\u001b[0m\u001b[0m_BerlekampAlgorithm\u001b[0m\u001b[1;33m(\u001b[0m\u001b[0mfp\u001b[0m\u001b[1;33m)\u001b[0m\u001b[1;33m]\u001b[0m\u001b[1;33m\u001b[0m\u001b[1;33m\u001b[0m\u001b[0m\n\u001b[0;32m    173\u001b[0m     \u001b[0md\u001b[0m \u001b[1;33m=\u001b[0m \u001b[0mmath\u001b[0m\u001b[1;33m.\u001b[0m\u001b[0mceil\u001b[0m\u001b[1;33m(\u001b[0m\u001b[0mlog\u001b[0m\u001b[1;33m(\u001b[0m\u001b[1;36m2\u001b[0m\u001b[1;33m*\u001b[0m\u001b[0mB\u001b[0m\u001b[1;33m+\u001b[0m\u001b[1;36m1\u001b[0m\u001b[1;33m,\u001b[0m \u001b[0mp\u001b[0m\u001b[1;33m)\u001b[0m\u001b[1;33m)\u001b[0m \u001b[1;33m-\u001b[0m \u001b[1;36m1\u001b[0m\u001b[1;33m\u001b[0m\u001b[1;33m\u001b[0m\u001b[0m\n\u001b[1;32m--> 174\u001b[1;33m     \u001b[0mh_list\u001b[0m \u001b[1;33m=\u001b[0m \u001b[0mmy\u001b[0m\u001b[1;33m.\u001b[0m\u001b[0mHenselLifting_MultiFactors\u001b[0m\u001b[1;33m(\u001b[0m\u001b[0mp\u001b[0m\u001b[1;33m,\u001b[0m \u001b[0mf\u001b[0m\u001b[1;33m,\u001b[0m \u001b[0mg_list\u001b[0m\u001b[1;33m,\u001b[0m \u001b[0md\u001b[0m\u001b[1;33m,\u001b[0m \u001b[0moutput\u001b[0m\u001b[1;33m=\u001b[0m\u001b[1;32mFalse\u001b[0m\u001b[1;33m)\u001b[0m\u001b[1;33m\u001b[0m\u001b[1;33m\u001b[0m\u001b[0m\n\u001b[0m\u001b[0;32m    175\u001b[0m     \u001b[0ms\u001b[0m \u001b[1;33m=\u001b[0m \u001b[1;36m1\u001b[0m\u001b[1;33m\u001b[0m\u001b[1;33m\u001b[0m\u001b[0m\n\u001b[0;32m    176\u001b[0m     \u001b[0mF\u001b[0m \u001b[1;33m=\u001b[0m \u001b[1;33m[\u001b[0m\u001b[1;33m]\u001b[0m\u001b[1;33m;\u001b[0m \u001b[0mH\u001b[0m \u001b[1;33m=\u001b[0m \u001b[0mh_list\u001b[0m\u001b[1;33m;\u001b[0m \u001b[0m_f\u001b[0m \u001b[1;33m=\u001b[0m \u001b[0mf\u001b[0m\u001b[1;33m\u001b[0m\u001b[1;33m\u001b[0m\u001b[0m\n",
      "\u001b[1;31mAttributeError\u001b[0m: module 'tools' has no attribute 'HenselLifting_MultiFactors'"
     ]
    }
   ],
   "source": [
    "%%time\n",
    "_Zassenhaus_Algorithm(f)"
   ]
  },
  {
   "cell_type": "code",
   "execution_count": null,
   "metadata": {},
   "outputs": [],
   "source": []
  },
  {
   "cell_type": "markdown",
   "metadata": {},
   "source": [
    "# memo"
   ]
  },
  {
   "cell_type": "code",
   "execution_count": null,
   "metadata": {},
   "outputs": [],
   "source": [
    "# Comparisons of factorization over GF"
   ]
  },
  {
   "cell_type": "code",
   "execution_count": 101,
   "metadata": {},
   "outputs": [
    {
     "name": "stdout",
     "output_type": "stream",
     "text": [
      "Poly(x**2 + 20*x + 11, x, modulus=41)\n"
     ]
    }
   ],
   "source": [
    "x = Symbol('x')\n",
    "p = prime(200)\n",
    "p = 41\n",
    "deg = 2\n",
    "f = random_poly(x, deg, -p//2, p//2, domain=GF(p), polys=True)\n",
    "f = monic(f)\n",
    "print(f)"
   ]
  },
  {
   "cell_type": "code",
   "execution_count": 102,
   "metadata": {},
   "outputs": [
    {
     "name": "stdout",
     "output_type": "stream",
     "text": [
      "Wall time: 4.02 ms\n"
     ]
    },
    {
     "data": {
      "text/plain": [
       "x**2 + 20*x + 11"
      ]
     },
     "execution_count": 102,
     "metadata": {},
     "output_type": "execute_result"
    }
   ],
   "source": [
    "%%time\n",
    "factor(f, domain=f.domain)"
   ]
  },
  {
   "cell_type": "code",
   "execution_count": 103,
   "metadata": {},
   "outputs": [
    {
     "name": "stdout",
     "output_type": "stream",
     "text": [
      "Wall time: 55.6 ms\n"
     ]
    }
   ],
   "source": [
    "%%time\n",
    "my._BerlekampAlgorithm(f)"
   ]
  },
  {
   "cell_type": "code",
   "execution_count": 104,
   "metadata": {
    "scrolled": true
   },
   "outputs": [
    {
     "name": "stdout",
     "output_type": "stream",
     "text": [
      "Wall time: 23.8 ms\n"
     ]
    }
   ],
   "source": [
    "%%time\n",
    "my.BerlekampAlgorithm(f)"
   ]
  },
  {
   "cell_type": "code",
   "execution_count": 105,
   "metadata": {},
   "outputs": [
    {
     "name": "stdout",
     "output_type": "stream",
     "text": [
      "Wall time: 8.82 ms\n"
     ]
    },
    {
     "data": {
      "text/plain": [
       "[Poly(x**2 + 20*x + 11, x, modulus=41)]"
      ]
     },
     "execution_count": 105,
     "metadata": {},
     "output_type": "execute_result"
    }
   ],
   "source": [
    "%%time\n",
    "my.Cantor_Zassenhaus(f)"
   ]
  },
  {
   "cell_type": "code",
   "execution_count": 76,
   "metadata": {},
   "outputs": [
    {
     "name": "stdout",
     "output_type": "stream",
     "text": [
      "29\n",
      "\r",
      "1Poly(x**15 - 7*x**14 - 8*x**13 - 4*x**11 - 11*x**10 - 11*x**9 - 6*x**8 - 7*x**7 - 10*x**6 - 8*x**5 - 13*x**4 + 4*x**3 - 10*x**2 + 9*x + 9, x, modulus=29)\n",
      "Wall time: 35.5 ms\n"
     ]
    }
   ],
   "source": [
    "%%time\n",
    "if __name__ == '__main__':\n",
    "    '''\n",
    "    動作確認\n",
    "    \n",
    "    '''\n",
    "    x = Symbol('x')\n",
    "    p = prime(10); print(p)\n",
    "    deg = 15\n",
    "    factor_num = 3\n",
    "    factor_deg = deg//factor_num\n",
    "    f = Poly(1, x, domain=GF(p))\n",
    "    i = 0\n",
    "    while True:\n",
    "        i += 1; print('\\r%d' %i, end='')\n",
    "        for _ in range(factor_num):\n",
    "            _f = random_poly(x, factor_deg, -p//2, p//2, domain=GF(p), polys=True)\n",
    "            f *= _f\n",
    "        if gcd(f, diff(f, f.gen)) == 1:\n",
    "            break\n",
    "        else:\n",
    "            f = Poly(1, x, domain=GF(p))\n",
    "    f = monic(f)\n",
    "    print(f)"
   ]
  },
  {
   "cell_type": "code",
   "execution_count": 88,
   "metadata": {},
   "outputs": [],
   "source": [
    "g = Poly(x**2 + x + 9, x, modulus=41)"
   ]
  },
  {
   "cell_type": "code",
   "execution_count": null,
   "metadata": {},
   "outputs": [],
   "source": []
  },
  {
   "cell_type": "code",
   "execution_count": null,
   "metadata": {},
   "outputs": [],
   "source": []
  },
  {
   "cell_type": "code",
   "execution_count": null,
   "metadata": {},
   "outputs": [],
   "source": []
  },
  {
   "cell_type": "code",
   "execution_count": null,
   "metadata": {},
   "outputs": [],
   "source": []
  },
  {
   "cell_type": "markdown",
   "metadata": {},
   "source": [
    "# main"
   ]
  },
  {
   "cell_type": "code",
   "execution_count": null,
   "metadata": {},
   "outputs": [],
   "source": [
    "from sympy import *\n",
    "import numpy as np\n",
    "import math\n",
    "import random\n",
    "import tools as my\n",
    "import time\n",
    "import matplotlib.pyplot as plt\n",
    "import pickle"
   ]
  },
  {
   "cell_type": "code",
   "execution_count": null,
   "metadata": {},
   "outputs": [],
   "source": [
    "iter_num = 5\n",
    "prime_sup = 50\n",
    "print(prime(prime_sup))\n",
    "deg = 15\n",
    "\n",
    "Poly_list = []\n",
    "\n",
    "x = Symbol('x')\n",
    "\n",
    "dir_name = '../Soturonn/images/'"
   ]
  },
  {
   "cell_type": "code",
   "execution_count": null,
   "metadata": {},
   "outputs": [],
   "source": [
    "%%time\n",
    "# cache 用のprimeの呼び出し(about 70 sec)\n",
    "_ = [my.my_prime(i) for i in range(1, prime_sup+1)]"
   ]
  },
  {
   "cell_type": "code",
   "execution_count": null,
   "metadata": {},
   "outputs": [],
   "source": [
    "%%time\n",
    "# 多項式の生成・保存\n",
    "for i in range(1, prime_sup):\n",
    "    p = my.my_prime(i)\n",
    "    _list = []\n",
    "    for _ in range(iter_num):\n",
    "        while True:\n",
    "            f = random_poly(x, deg, -p//2, p//2, domain=GF(p), polys=True)\n",
    "            if gcd(f, diff(f, x, domain=f.domain), domain=f.domain) == 1:\n",
    "                break\n",
    "        f = monic(f)\n",
    "        _list.append(f)\n",
    "    Poly_list.append(_list)\n",
    "        \n",
    "#with open('Poly_lists.pickle', 'wb') as file:\n",
    " #   pickle.dump(Poly_list, file)"
   ]
  },
  {
   "cell_type": "code",
   "execution_count": null,
   "metadata": {},
   "outputs": [],
   "source": [
    "%%time\n",
    "func_list = [my._BerlekampAlgorithm, my.BerlekampAlgorithm, my.Cantor_Zassenhaus]\n",
    "time_list = []\n",
    "SP_time = []\n",
    "\n",
    "for polys in Poly_list:\n",
    "    t1 = time.process_time()\n",
    "    for f in polys:\n",
    "        factor(f, domain=f.domain)\n",
    "    t2 = time.process_time()\n",
    "    SP_time.append((t2 - t1)/iter_num)\n",
    "time_list.append(SP_time)\n",
    "\n",
    "for func in func_list:\n",
    "    _time = []\n",
    "    for polys in Poly_list:\n",
    "        t1 = time.process_time()\n",
    "        for f in polys:\n",
    "            func(f)\n",
    "        t2 = time.process_time()\n",
    "        _time.append((t2 - t1)/iter_num)\n",
    "    time_list.append(_time)\n",
    "    \n",
    "#with open('time_list.pickle', 'wb') as file:\n",
    " #   pickle.dump(time_list, file)"
   ]
  },
  {
   "cell_type": "code",
   "execution_count": null,
   "metadata": {},
   "outputs": [],
   "source": [
    "%%time\n",
    "fig, ax = plt.subplots()\n",
    "x_list = [my.my_prime(i) for i in range(1, prime_sup)]\n",
    "ax.plot(x_list, time_list[0], label='SymPy original')\n",
    "ax.plot(x_list, time_list[1], label='Berlekamp algorithm')\n",
    "ax.plot(x_list, time_list[2], label='Berlekamp algorithm(optimize)')\n",
    "ax.plot(x_list, time_list[3], label='Cantor Zassenhaus algorithm')\n",
    "ax.legend()\n",
    "#ax.set_yscale('log')\n",
    "ax.set_xlabel('\"i\"th prime')\n",
    "ax.set_ylabel('time[sec]')\n",
    "\n",
    "fig.tight_layout()\n",
    "fig.show()\n",
    "#plt.savefig(dir_name + 'GF_experiment.eps')\n",
    "plt.savefig('sample.eps')"
   ]
  },
  {
   "cell_type": "code",
   "execution_count": null,
   "metadata": {},
   "outputs": [],
   "source": []
  },
  {
   "cell_type": "code",
   "execution_count": null,
   "metadata": {},
   "outputs": [],
   "source": []
  },
  {
   "cell_type": "code",
   "execution_count": null,
   "metadata": {},
   "outputs": [],
   "source": []
  },
  {
   "cell_type": "code",
   "execution_count": null,
   "metadata": {},
   "outputs": [],
   "source": []
  },
  {
   "cell_type": "code",
   "execution_count": null,
   "metadata": {},
   "outputs": [],
   "source": []
  },
  {
   "cell_type": "code",
   "execution_count": null,
   "metadata": {},
   "outputs": [],
   "source": []
  }
 ],
 "metadata": {
  "kernelspec": {
   "display_name": "Python 3",
   "language": "python",
   "name": "python3"
  },
  "language_info": {
   "codemirror_mode": {
    "name": "ipython",
    "version": 3
   },
   "file_extension": ".py",
   "mimetype": "text/x-python",
   "name": "python",
   "nbconvert_exporter": "python",
   "pygments_lexer": "ipython3",
   "version": "3.6.7"
  },
  "varInspector": {
   "cols": {
    "lenName": 16,
    "lenType": 16,
    "lenVar": 40
   },
   "kernels_config": {
    "python": {
     "delete_cmd_postfix": "",
     "delete_cmd_prefix": "del ",
     "library": "var_list.py",
     "varRefreshCmd": "print(var_dic_list())"
    },
    "r": {
     "delete_cmd_postfix": ") ",
     "delete_cmd_prefix": "rm(",
     "library": "var_list.r",
     "varRefreshCmd": "cat(var_dic_list()) "
    }
   },
   "types_to_exclude": [
    "module",
    "function",
    "builtin_function_or_method",
    "instance",
    "_Feature"
   ],
   "window_display": false
  }
 },
 "nbformat": 4,
 "nbformat_minor": 2
}
