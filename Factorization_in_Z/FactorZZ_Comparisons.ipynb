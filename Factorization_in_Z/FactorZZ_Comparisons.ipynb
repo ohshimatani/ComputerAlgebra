{
 "cells": [
  {
   "cell_type": "markdown",
   "metadata": {
    "heading_collapsed": true
   },
   "source": [
    "# nagai"
   ]
  },
  {
   "cell_type": "code",
   "execution_count": null,
   "metadata": {
    "hidden": true
   },
   "outputs": [],
   "source": [
    "from sympy import *\n",
    "import numpy as np\n",
    "import math\n",
    "import random\n",
    "import tools as my\n",
    "import time\n",
    "\n",
    "def SquarefreeDecomposition(f):\n",
    "    if content(f) != 1:\n",
    "        raise ValueError('cont(f) != 1')\n",
    "    s = gcd(f, diff(f, f.gen))\n",
    "    if s == 1:\n",
    "        return [f]\n",
    "    t = []; u = []; v = []; F = []\n",
    "    t.append(quo(f, s)); u.append(quo(diff(f, f.gen), s))\n",
    "    v.append(u[0] - diff(t[0]))\n",
    "    i = 1\n",
    "    while t[i-1] != 1:\n",
    "        F.append(gcd(t[i-1], v[i-1]))\n",
    "        t.append(quo(t[i-1], F[i-1]))\n",
    "        u.append(quo(v[i-1], F[i-1]))\n",
    "        v.append(u[i] - diff(t[i], f.gen))\n",
    "        i = i + 1\n",
    "    return F\n",
    "\n",
    "def Berlekamp_Matrix(f):\n",
    "    # Berlekamp行列\n",
    "    \n",
    "    if LC(f) != 1:\n",
    "        raise ValueError('f(x) is not monic.')\n",
    "    if gcd(f, diff(f, f.gen, domain=f.domain)) != 1:\n",
    "        raise ValueError('f(x) is not square-free.')\n",
    "\n",
    "    x = f.gen\n",
    "    p = f.domain.characteristic()\n",
    "    m = degree(f)\n",
    "    g0 = 1\n",
    "    B = np.zeros((m, m), dtype=Integer); B[0][0] = g0\n",
    "    g1 = rem(x**p, f, domain=GF(p))\n",
    "    if g1 == g1.zero:\n",
    "        deg_g1 = 0\n",
    "    else:\n",
    "        deg_g1 = degree(g1)\n",
    "    for i in range(deg_g1):\n",
    "        B[1][i-1] = list(reversed(g1.all_coeffs()))[i]\n",
    "    g = g1\n",
    "    for i in range(2, m):\n",
    "        g = rem(g*g1, f, domain=GF(p))\n",
    "        if g == g.zero:\n",
    "            deg_g1 = 0\n",
    "        else:\n",
    "            deg_g = degree(g)\n",
    "        for j in range(deg_g):\n",
    "            B[i][j-1] = list(reversed(g.all_coeffs()))[j]\n",
    "    return B\n",
    "\n",
    "def f_ReducingPolynomial(f, B):\n",
    "    # f-簡約多項式（Berlekampアルゴリズムでの分離多項式）\n",
    "    \n",
    "    x = f.gen\n",
    "    p = f.domain.characteristic()\n",
    "    m = np.shape(B)[0]\n",
    "    B = B - np.identity(m, dtype=Integer)\n",
    "    for i in range(m-1):\n",
    "        if sum(B[i][i:] == 0) == m-i:\n",
    "            continue\n",
    "        j = i\n",
    "        while B[i][i] == 0:\n",
    "            j = j + 1\n",
    "            if B[i][j] != 0:\n",
    "                B[:, i], B[:, j] = B[:, j], B[:, i]    \n",
    "        recip = invert(B[i][i], p)\n",
    "        B[:, i] = (B[:, i]*recip) % p\n",
    "        for j in range(m):\n",
    "            if j == i:\n",
    "                continue\n",
    "            B[:, j] = (B[:, j] - B[i][j]*B[:, i]) % p\n",
    "    B = np.identity(m, dtype=Integer) - B\n",
    "    \n",
    "    _B = np.zeros((1, m), dtype=Integer)\n",
    "    for i in range(m):\n",
    "        if sum(B[i] == 0) == m:\n",
    "            continue\n",
    "        _B = np.append(_B, [B[i]], axis=0)\n",
    "    _B = _B[1:]\n",
    "    f_reducing_polynomials = []\n",
    "    \n",
    "    k = np.shape(_B)[0]\n",
    "    for i in range(k):\n",
    "        _f = Poly(0, x, domain=GF(p))\n",
    "        for j in range(m):\n",
    "            coeff = _B[i][j]\n",
    "            _f = _f + Poly(coeff*x**j, x, domain=GF(p))  \n",
    "        f_reducing_polynomials.append(_f)\n",
    "    return tuple(f_reducing_polynomials)\n",
    "\n",
    "def _BerlekampAlgorithm(f, output=True):\n",
    "    # Berlekampアルゴリズム（有限体上の因数分解）\n",
    "    \n",
    "    if LC(f) != 1:\n",
    "        raise ValueError('f(x) is not monic.')\n",
    "    if gcd(f, diff(f, f.gen)) != 1:\n",
    "        raise ValueError('f(x) is not square-free.')\n",
    "        \n",
    "    B = Berlekamp_Matrix(f)\n",
    "    f_reducing_polynomials = f_ReducingPolynomial(f, B)\n",
    "    \n",
    "    if output:\n",
    "        print('Berlekamp Matrix: ' + '\\n' + str(B) + '\\n')\n",
    "        print('f reducing polynomials:' + '\\n' + str(f_reducing_polynomials) + '\\n')\n",
    "\n",
    "        print('--------------------_Berlekamp Algorithm--------------------')\n",
    "    \n",
    "    # 自明なf-簡約多項式はg1へ\n",
    "    g1 = np.array([], dtype=Integer); g_list = np.array([], dtype=Integer)\n",
    "    for g in f_reducing_polynomials:\n",
    "        if degree(g) == 0:\n",
    "            g1 = np.append(g1, g)\n",
    "        else:\n",
    "            g_list = np.append(g_list, g)\n",
    "    if output:      \n",
    "        print('g1 :' + str(g1)); print('g_list :' + str(g_list))\n",
    "    \n",
    "    #if len(f_reducing_polynomials) == 1:\n",
    "    if len(g_list) == 1:\n",
    "        return f\n",
    "    else:\n",
    "        F = np.array([f])\n",
    "    alpha = range(f.domain.characteristic())\n",
    "    \n",
    "    # _F ... F', F_ ... F_tilde\n",
    "    for i in range(len(g_list)):\n",
    "        _F = np.array([], dtype=Integer)\n",
    "        for _f in F:\n",
    "            F_ = np.array([], dtype=Integer)\n",
    "            for a in alpha:\n",
    "                gcd_fg = gcd(_f, g_list[i] - a, domain=_f.domain)\n",
    "                if degree(gcd_fg) != 0:\n",
    "                    F_ = np.append(F_, gcd_fg)\n",
    "            h = Poly(1, x, domain=_f.domain)\n",
    "            for F_elements in F_:\n",
    "                h = h * F_elements\n",
    "            _f = quo(_f, h, domain=_f.domain)\n",
    "            if _f != f.one:\n",
    "                F_ = np.append(F_, _f)\n",
    "            _F = np.append(_F, F_)\n",
    "            print('_F:', _F)\n",
    "        if len(_F) == len(f_reducing_polynomials):\n",
    "            if output:\n",
    "                print('rF', _F)\n",
    "                print('_rF', tuple(_F))\n",
    "                print('------------------------------------------------------------')\n",
    "            return tuple(_F)\n",
    "        F = _F\n",
    "\n",
    "def _Zassenhaus(f):\n",
    "    if primitive(f)[0] != 1:\n",
    "        raise ValueError('f(x) is not primitive.')\n",
    "    if gcd(f, diff(f, f.gen, domain=f.domain)) != 1:\n",
    "        raise ValueError('f(x) is not square-free.')\n",
    "        \n",
    "    m = degree(f)\n",
    "    max_f = f.max_norm()\n",
    "    B_ = sqrt(m+1) * 2**m * max_f\n",
    "    B = B_ * abs(LC(f))\n",
    "    x = f.gen\n",
    "    \n",
    "    i = 10\n",
    "    while True:\n",
    "        i += 3\n",
    "        p = prime(i)\n",
    "        if (gcd(f, diff(f, x, domain=GF(p)), domain=GF(p)) == 1) and (bool(LC(f) % p)):\n",
    "            break\n",
    "    fp = Poly(f * invert(LC(f), p), x, domain=GF(p))\n",
    "    print('fp:', fp)\n",
    "    g_list = [_BerlekampAlgorithm(fp)]\n",
    "    #g_list = [my.BerlekampAlgorithm(fp)]\n",
    "    d = math.ceil(log(2*B+1, p)) - 1\n",
    "    h_list = my.HenselLifting_MultiFactors(p, f, g_list, d, output=False)\n",
    "    s = 1\n",
    "    F = []; H = h_list; _f = f\n",
    "    while 2*s <= len(H):\n",
    "        iter_list = itertools.combinations(H, s)\n",
    "        for S in iter_list:\n",
    "            h_setminus_S = list(set(H) - set(S))\n",
    "            f_s = Poly(LC(_f) * np.prod(S), x, domain=GF(p**(d+1))).as_poly(domain=ZZ)\n",
    "            f_h_setminus_S = Poly(LC(_f) * np.prod(h_setminus_S), x, domain=GF(p**(d+1))).as_poly(domain=ZZ)\n",
    "            if f_s.l1_norm() * f_h_setminus_S.l1_norm() <= B:\n",
    "                H = h_setminus_S\n",
    "                F.append(primitive(f_s)[1])\n",
    "                _f = primitive(f_h_setminus_S)[1]\n",
    "                break\n",
    "        else:\n",
    "            s = s + 1\n",
    "    return np.append(F, _f)  \n",
    "\n",
    "def _Zassenhaus_Algorithm(f):\n",
    "    cont_f, pp_f = primitive(f)\n",
    "    sf_f_list = SquarefreeDecomposition(pp_f)\n",
    "    factors_list = []\n",
    "    i = 1\n",
    "    for sf_f in sf_f_list:\n",
    "        print(sf_f)\n",
    "        result = list(_Zassenhaus(sf_f))\n",
    "        for _ in range(i):\n",
    "            factors_list.append(result)\n",
    "        i += 1\n",
    "    factors_list[0] *= cont_f\n",
    "    return factors_list\n",
    "\n",
    "x = Symbol('x')\n",
    "f = ((x+1)**2*(2*x-3)**3*(x**2+x+9)).as_poly(domain=ZZ)"
   ]
  },
  {
   "cell_type": "code",
   "execution_count": null,
   "metadata": {
    "hidden": true
   },
   "outputs": [],
   "source": [
    "%%time\n",
    "_Zassenhaus_Algorithm(f1)"
   ]
  },
  {
   "cell_type": "code",
   "execution_count": null,
   "metadata": {
    "hidden": true
   },
   "outputs": [],
   "source": [
    "factor(Poly(x**7 + 4*x**6 - 11*x**5 - 8*x**4 - 3*x**3 + 2*x**2 + 15*x, x, modulus=41), domain=GF(41))"
   ]
  },
  {
   "cell_type": "code",
   "execution_count": null,
   "metadata": {
    "hidden": true
   },
   "outputs": [],
   "source": [
    "%%time\n",
    "my.Zassenhaus_Algorithm(f)"
   ]
  },
  {
   "cell_type": "code",
   "execution_count": null,
   "metadata": {
    "hidden": true
   },
   "outputs": [],
   "source": []
  },
  {
   "cell_type": "code",
   "execution_count": null,
   "metadata": {
    "hidden": true
   },
   "outputs": [],
   "source": []
  },
  {
   "cell_type": "code",
   "execution_count": null,
   "metadata": {
    "hidden": true
   },
   "outputs": [],
   "source": []
  },
  {
   "cell_type": "code",
   "execution_count": null,
   "metadata": {
    "hidden": true
   },
   "outputs": [],
   "source": []
  },
  {
   "cell_type": "code",
   "execution_count": null,
   "metadata": {
    "hidden": true
   },
   "outputs": [],
   "source": [
    "x = Symbol('x')\n",
    "h = Poly(18*x**10 + 216*x**8 - 24*x**7 + 648*x**6 - 288*x**5 + 8*x**4 - 864*x**3 + 96*x**2 + 288, x, domain=ZZ)\n",
    "#h = Poly(x**5 + 9*x**4 + 6*x**3 - 3*x**2 - 27*x - 18, x, domain=ZZ)"
   ]
  },
  {
   "cell_type": "markdown",
   "metadata": {},
   "source": [
    "# main"
   ]
  },
  {
   "cell_type": "code",
   "execution_count": 1,
   "metadata": {},
   "outputs": [],
   "source": [
    "from sympy import *\n",
    "import numpy as np\n",
    "import math\n",
    "import tools as my\n",
    "import random\n",
    "import itertools\n",
    "import time\n",
    "import pickle"
   ]
  },
  {
   "cell_type": "code",
   "execution_count": 2,
   "metadata": {},
   "outputs": [],
   "source": [
    "coeffs_inf, coeffs_sup = -10, 10\n",
    "random.seed(2525)"
   ]
  },
  {
   "cell_type": "code",
   "execution_count": 3,
   "metadata": {},
   "outputs": [],
   "source": [
    "iter_num = 1\n",
    "f1_time_list = []\n",
    "f2_time_list = []\n",
    "f3_time_list = []\n",
    "f4_time_list = []"
   ]
  },
  {
   "cell_type": "code",
   "execution_count": 4,
   "metadata": {},
   "outputs": [],
   "source": [
    "def my_random_poly_ZZ(*degs):\n",
    "    random.seed(2525)\n",
    "    x = Symbol('x')\n",
    "    f = Poly(1, x, domain=ZZ)\n",
    "    for deg in list(degs):\n",
    "        f *= random_poly(x, deg, -3, 3, domain=ZZ, polys=True)\n",
    "    return expand(f)"
   ]
  },
  {
   "cell_type": "code",
   "execution_count": 34,
   "metadata": {},
   "outputs": [],
   "source": [
    "x = Symbol('x')\n",
    "_f1 = my_random_poly_ZZ(2, 1, 3, 1); # deg = 7\n",
    "_f2 = my_random_poly_ZZ(2, 1, 1, 4, 5); # deg = 13\n",
    "#_f3 = my_random_poly_ZZ(4, 5, 1, 6, 3, 1); # deg = 20\n",
    "_f3 = my_random_poly_ZZ(1, 5, 5, 3, 4, 2); # deg = 20\n",
    "_f4 = my_random_poly_ZZ(7, 13, 21, 5, 4, 5, 12, 13, 17, 6, 7); # deg = 110\n",
    "#_f3 = my_random_poly_ZZ(6, 2, 4, 5, 2, 6, 3, 1, 3, 4); _f3 = quo(_f3, (x-1))# deg = 30\n"
   ]
  },
  {
   "cell_type": "code",
   "execution_count": 35,
   "metadata": {},
   "outputs": [],
   "source": [
    "f1, f2, f3 = (_f1/content(_f1)).as_poly(domain=ZZ), (_f2/content(_f2)).as_poly(domain=ZZ), (_f3/content(_f3)).as_poly(domain=ZZ)\n",
    "f4 = (_f4/content(_f4)).as_poly(domain=ZZ)\n",
    "h = Poly(3*x**5 + 18*x**3 - 2*x**2 - 12, x, domain=ZZ)"
   ]
  },
  {
   "cell_type": "code",
   "execution_count": null,
   "metadata": {},
   "outputs": [],
   "source": [
    "%%time\n",
    "func_list = [factor, my._Zassenhaus_Algorithm, my.Zassenhaus_Algorithm]\n",
    "for func in func_list:\n",
    "    print(func)\n",
    "    t1 = time.process_time()\n",
    "    for i in range(iter_num):\n",
    "        result = func(f1)\n",
    "    t2 = time.process_time()\n",
    "    f1_time_list.append(t2 - t1)\n",
    "    \n",
    "    t1 = time.process_time()\n",
    "    for i in range(iter_num):\n",
    "        result = func(f2)\n",
    "    t2 = time.process_time()\n",
    "    f2_time_list.append(t2 - t1)\n",
    "    \n",
    "    t1 = time.process_time()\n",
    "    for i in range(iter_num):\n",
    "        result = func(f3)\n",
    "    t2 = time.process_time()\n",
    "    f3_time_list.append(t2 - t1)\n",
    "    \n",
    "    t1 = time.process_time()\n",
    "    for i in range(iter_num):\n",
    "        result = func(f4)\n",
    "    t2 = time.process_time()\n",
    "    f4_time_list.append(t2 - t1)\n",
    "    \n",
    "t1 = time.process_time()\n",
    "for i in range(iter_num):\n",
    "    result = my.Knapsack_Algorithm(f1, USE_ZASSENHAUS=False, output=False)\n",
    "t2 = time.process_time()\n",
    "f1_time_list.append(t2 - t1)\n",
    "t1 = time.process_time()\n",
    "for i in range(iter_num):\n",
    "    result = my.Knapsack_Algorithm(f2, USE_ZASSENHAUS=False, output=False)\n",
    "t2 = time.process_time()\n",
    "f2_time_list.append(t2 - t1)\n",
    "t1 = time.process_time()\n",
    "for i in range(iter_num):\n",
    "    result = my.Knapsack_Algorithm(f3, USE_ZASSENHAUS=False, output=False)\n",
    "t2 = time.process_time()\n",
    "f3_time_list.append(t2 - t1)"
   ]
  },
  {
   "cell_type": "code",
   "execution_count": null,
   "metadata": {},
   "outputs": [],
   "source": [
    "print('f1:', f1)\n",
    "print('f2:', f2)\n",
    "print('f3:', f3)\n",
    "print('f4:', f4)"
   ]
  },
  {
   "cell_type": "code",
   "execution_count": 44,
   "metadata": {},
   "outputs": [
    {
     "data": {
      "text/plain": [
       "'108 x^{20} - 522 x^{19} + 312 x^{18} + 1378 x^{17} - 1466 x^{16} - 711 x^{15} + 972 x^{14} - 255 x^{13} + 493 x^{12} + 863 x^{11} - 197 x^{10} - 1974 x^{9} - 359 x^{8} + 551 x^{7} - 28 x^{6} + 1122 x^{5} + 351 x^{4} - 540 x^{3} - 162 x^{2}'"
      ]
     },
     "execution_count": 44,
     "metadata": {},
     "output_type": "execute_result"
    }
   ],
   "source": [
    "latex(f3.as_expr())"
   ]
  },
  {
   "cell_type": "code",
   "execution_count": null,
   "metadata": {},
   "outputs": [],
   "source": [
    "j = 100\n",
    "t1 = time.process_time()\n",
    "for i in range(j):\n",
    "    factor(f1)\n",
    "t2 = time.process_time()\n",
    "print((t2 - t1))"
   ]
  },
  {
   "cell_type": "code",
   "execution_count": null,
   "metadata": {},
   "outputs": [],
   "source": [
    "t1 = time.process_time()\n",
    "factor(f2)\n",
    "t2 = time.process_time()\n",
    "print(t2 - t1)"
   ]
  },
  {
   "cell_type": "code",
   "execution_count": 15,
   "metadata": {},
   "outputs": [
    {
     "name": "stdout",
     "output_type": "stream",
     "text": [
      "0.03125\n"
     ]
    }
   ],
   "source": [
    "t1 = time.process_time()\n",
    "factor(f3)\n",
    "t2 = time.process_time()\n",
    "print(t2 - t1)"
   ]
  },
  {
   "cell_type": "code",
   "execution_count": null,
   "metadata": {},
   "outputs": [],
   "source": [
    "t1 = time.process_time()\n",
    "factor(f4)\n",
    "t2 = time.process_time()\n",
    "print(t2 - t1)"
   ]
  },
  {
   "cell_type": "code",
   "execution_count": null,
   "metadata": {},
   "outputs": [],
   "source": []
  },
  {
   "cell_type": "code",
   "execution_count": 45,
   "metadata": {},
   "outputs": [
    {
     "name": "stdout",
     "output_type": "stream",
     "text": [
      "0.390625\n"
     ]
    }
   ],
   "source": [
    "t1 = time.process_time()\n",
    "my.Knapsack_Algorithm(f1, USE_ZASSENHAUS=True, output=True)\n",
    "t2 = time.process_time()\n",
    "print(t2 - t1)"
   ]
  },
  {
   "cell_type": "code",
   "execution_count": 38,
   "metadata": {},
   "outputs": [
    {
     "name": "stdout",
     "output_type": "stream",
     "text": [
      "g_list: [Poly(x**3 - 15*x**2 - x - 16, x, modulus=47), Poly(x + 23, x, modulus=47), Poly(x + 13, x, modulus=47), Poly(x - 3, x, modulus=47), Poly(x - 15, x, modulus=47), Poly(x**2 + 4*x - 1, x, modulus=47), Poly(x**4 + 23*x**3 - 12*x**2 - 5*x - 3, x, modulus=47), Poly(x - 14, x, modulus=47), Poly(x**3 + 16*x**2 - 15*x - 15, x, modulus=47), Poly(x + 18, x, modulus=47)]\n",
      "h_list: [Poly(x**3 - 168874373487*x**2 - x - 168874373488, x, domain='ZZ'), Poly(x - 203082832910, x, domain='ZZ'), Poly(x - 110048909319, x, domain='ZZ'), Poly(x - 3, x, domain='ZZ'), Poly(x - 24870082821, x, domain='ZZ'), Poly(x**2 - 112527953703*x - 58668074160, x, domain='ZZ'), Poly(x**4 + 203082832909*x**3 - 211081719000*x**2 + 145944451789*x - 126638155530, x, domain='ZZ'), Poly(x - 115913523709, x, domain='ZZ'), Poly(x**3 + 168874373488*x**2 - 168874373487*x - 168874373487, x, domain='ZZ'), Poly(x - 58825464169, x, domain='ZZ')]\n",
      "g_list: [Poly(x, x, modulus=7)]\n",
      "h_list: [Poly(x, x, domain='ZZ')]\n",
      "2.453125\n"
     ]
    }
   ],
   "source": [
    "t1 = time.process_time()\n",
    "my._Zassenhaus_Algorithm(f3)\n",
    "t2 = time.process_time()\n",
    "print(t2 - t1)"
   ]
  },
  {
   "cell_type": "code",
   "execution_count": 29,
   "metadata": {},
   "outputs": [
    {
     "name": "stdout",
     "output_type": "stream",
     "text": [
      "0.625\n"
     ]
    }
   ],
   "source": [
    "t1 = time.process_time()\n",
    "my.Zassenhaus_Algorithm(f2)\n",
    "t2 = time.process_time()\n",
    "print(t2 - t1)"
   ]
  },
  {
   "cell_type": "code",
   "execution_count": null,
   "metadata": {},
   "outputs": [],
   "source": [
    "t1 = time.process_time()\n",
    "my._Zassenhaus_Algorithm(f4)\n",
    "t2 = time.process_time()\n",
    "print(t2 - t1)"
   ]
  },
  {
   "cell_type": "code",
   "execution_count": null,
   "metadata": {},
   "outputs": [],
   "source": []
  },
  {
   "cell_type": "code",
   "execution_count": null,
   "metadata": {},
   "outputs": [],
   "source": []
  },
  {
   "cell_type": "code",
   "execution_count": null,
   "metadata": {},
   "outputs": [],
   "source": []
  },
  {
   "cell_type": "code",
   "execution_count": null,
   "metadata": {},
   "outputs": [],
   "source": []
  },
  {
   "cell_type": "code",
   "execution_count": null,
   "metadata": {},
   "outputs": [],
   "source": []
  },
  {
   "cell_type": "code",
   "execution_count": null,
   "metadata": {},
   "outputs": [],
   "source": [
    "%%time\n",
    "factor(f1)"
   ]
  },
  {
   "cell_type": "code",
   "execution_count": null,
   "metadata": {},
   "outputs": [],
   "source": [
    "%%time\n",
    "my.Knapsack_Algorithm(f1, USE_ZASSENHAUS=False, output=True)"
   ]
  },
  {
   "cell_type": "markdown",
   "metadata": {},
   "source": [
    "# SDP"
   ]
  },
  {
   "cell_type": "code",
   "execution_count": null,
   "metadata": {},
   "outputs": [],
   "source": [
    "%%time\n",
    "x = Symbol('x')\n",
    "sdp = [1]\n",
    "n_max = 30\n",
    "for i in range(1, n_max+1):\n",
    "    sdp.append(swinnerton_dyer_poly(i, x=x, polys=True).as_poly(domain=ZZ))\n",
    "with open('SDP_list.pickle', 'wb') as file:\n",
    "    pickle.dump(sdp, file)"
   ]
  },
  {
   "cell_type": "code",
   "execution_count": null,
   "metadata": {},
   "outputs": [],
   "source": [
    "%%time\n",
    "a = swinnerton_dyer_poly(10, x=x, polys=False).as_poly(domain=ZZ)"
   ]
  },
  {
   "cell_type": "code",
   "execution_count": null,
   "metadata": {},
   "outputs": [],
   "source": [
    "with open('SDP_list.pickle', 'wb') as file:\n",
    "    pickle.dump(sdp, file)"
   ]
  },
  {
   "cell_type": "code",
   "execution_count": null,
   "metadata": {},
   "outputs": [],
   "source": [
    "from sympy import *\n",
    "import numpy as np\n",
    "import math\n",
    "import tools as my\n",
    "import random\n",
    "import itertools\n",
    "import time\n",
    "import pickle"
   ]
  },
  {
   "cell_type": "code",
   "execution_count": null,
   "metadata": {},
   "outputs": [],
   "source": [
    "with open('SDP_list.pickle', 'rb') as sdp:\n",
    "    sdp = pickle.load(sdp)"
   ]
  },
  {
   "cell_type": "code",
   "execution_count": null,
   "metadata": {},
   "outputs": [],
   "source": [
    "len(sdp)"
   ]
  },
  {
   "cell_type": "code",
   "execution_count": null,
   "metadata": {},
   "outputs": [],
   "source": [
    "k = 5"
   ]
  },
  {
   "cell_type": "code",
   "execution_count": null,
   "metadata": {},
   "outputs": [],
   "source": [
    "sdp[k]"
   ]
  },
  {
   "cell_type": "code",
   "execution_count": null,
   "metadata": {},
   "outputs": [],
   "source": [
    "%%time\n",
    "factor(sdp[k])"
   ]
  },
  {
   "cell_type": "code",
   "execution_count": null,
   "metadata": {},
   "outputs": [],
   "source": [
    "%%time\n",
    "my.Zassenhaus_Algorithm(sdp[k])"
   ]
  },
  {
   "cell_type": "code",
   "execution_count": null,
   "metadata": {},
   "outputs": [],
   "source": [
    "%%time\n",
    "my.Knapsack_Algorithm(sdp[k], USE_ZASSENHAUS=True, output=True)"
   ]
  },
  {
   "cell_type": "code",
   "execution_count": null,
   "metadata": {},
   "outputs": [],
   "source": [
    "sdp[5]"
   ]
  },
  {
   "cell_type": "code",
   "execution_count": null,
   "metadata": {},
   "outputs": [],
   "source": []
  },
  {
   "cell_type": "code",
   "execution_count": null,
   "metadata": {},
   "outputs": [],
   "source": [
    "# L3: f2-> 13min 24sec"
   ]
  },
  {
   "cell_type": "code",
   "execution_count": null,
   "metadata": {},
   "outputs": [],
   "source": [
    "# L3: f3-> 7h 30min 5sec"
   ]
  },
  {
   "cell_type": "code",
   "execution_count": null,
   "metadata": {},
   "outputs": [],
   "source": [
    "# Zassenhaus: f4-> 47.5s"
   ]
  },
  {
   "cell_type": "code",
   "execution_count": null,
   "metadata": {},
   "outputs": [],
   "source": [
    "# Knapsack: f4-> 8min 43s"
   ]
  },
  {
   "cell_type": "code",
   "execution_count": null,
   "metadata": {},
   "outputs": [],
   "source": []
  },
  {
   "cell_type": "code",
   "execution_count": null,
   "metadata": {},
   "outputs": [],
   "source": [
    "%%time\n",
    "my.L3_Algorithm(f)"
   ]
  },
  {
   "cell_type": "code",
   "execution_count": null,
   "metadata": {},
   "outputs": [],
   "source": [
    "from sympy import *\n",
    "import numpy as np\n",
    "import math\n",
    "import tools as my\n",
    "import random\n",
    "import itertools\n",
    "import time"
   ]
  },
  {
   "cell_type": "code",
   "execution_count": null,
   "metadata": {},
   "outputs": [],
   "source": [
    "f2"
   ]
  },
  {
   "cell_type": "code",
   "execution_count": null,
   "metadata": {},
   "outputs": [],
   "source": [
    "f3"
   ]
  },
  {
   "cell_type": "code",
   "execution_count": null,
   "metadata": {},
   "outputs": [],
   "source": [
    "x = Symbol('x')\n",
    "f1 = Poly(6*x**7 - 17*x**6 + 16*x**5 - 7*x**4 - 18*x**3 + 12*x**2 + 8*x, x, domain='ZZ')"
   ]
  },
  {
   "cell_type": "code",
   "execution_count": null,
   "metadata": {},
   "outputs": [],
   "source": [
    "%%time\n",
    "factor(f3)"
   ]
  },
  {
   "cell_type": "code",
   "execution_count": null,
   "metadata": {},
   "outputs": [],
   "source": [
    "%%time\n",
    "my.Knappsack_Algorithm(f2)"
   ]
  },
  {
   "cell_type": "code",
   "execution_count": null,
   "metadata": {},
   "outputs": [],
   "source": [
    "%%time\n",
    "my._Zassenhaus_Algorithm(f1)"
   ]
  },
  {
   "cell_type": "code",
   "execution_count": null,
   "metadata": {},
   "outputs": [],
   "source": [
    "%%time\n",
    "my.L3_Algorithm(f2)"
   ]
  },
  {
   "cell_type": "code",
   "execution_count": null,
   "metadata": {},
   "outputs": [],
   "source": [
    "from sympy import *\n",
    "import numpy as np\n",
    "import math\n",
    "import tools as my\n",
    "import random\n",
    "import itertools\n",
    "import time"
   ]
  },
  {
   "cell_type": "code",
   "execution_count": null,
   "metadata": {},
   "outputs": [],
   "source": [
    "x = Symbol('x')\n",
    "h = Poly(3*x**5 + 18*x**3 - 2*x**2 - 12, x, domain=ZZ)\n",
    "f = Poly(x**3 + 2*x**2 - 5*x - 6, x, domain=ZZ)"
   ]
  },
  {
   "cell_type": "code",
   "execution_count": null,
   "metadata": {},
   "outputs": [],
   "source": [
    "%%time\n",
    "my.Knappsack_Algorithm(h)"
   ]
  },
  {
   "cell_type": "code",
   "execution_count": null,
   "metadata": {},
   "outputs": [],
   "source": []
  },
  {
   "cell_type": "code",
   "execution_count": null,
   "metadata": {},
   "outputs": [],
   "source": []
  },
  {
   "cell_type": "code",
   "execution_count": null,
   "metadata": {},
   "outputs": [],
   "source": []
  },
  {
   "cell_type": "code",
   "execution_count": null,
   "metadata": {},
   "outputs": [],
   "source": [
    "my._Zassenhaus_Algorithm(f)"
   ]
  },
  {
   "cell_type": "code",
   "execution_count": null,
   "metadata": {},
   "outputs": [],
   "source": []
  },
  {
   "cell_type": "code",
   "execution_count": null,
   "metadata": {},
   "outputs": [],
   "source": [
    "f3"
   ]
  },
  {
   "cell_type": "code",
   "execution_count": null,
   "metadata": {},
   "outputs": [],
   "source": []
  },
  {
   "cell_type": "code",
   "execution_count": null,
   "metadata": {},
   "outputs": [],
   "source": [
    "list(reversed([1, 2]))[0]"
   ]
  },
  {
   "cell_type": "code",
   "execution_count": null,
   "metadata": {},
   "outputs": [],
   "source": [
    "for i in range(1, 2):\n",
    "    print(i)"
   ]
  },
  {
   "cell_type": "code",
   "execution_count": null,
   "metadata": {},
   "outputs": [],
   "source": [
    "a = [Poly(840*x**11 + 2119*x**10 - 11753*x**9 + 16461*x**8 - 17166*x**7 + 11161*x**6 + 2520*x**5 - 5181*x**4 + 5618*x**3 - 3932*x**2 - 315*x + 588, x, domain='ZZ'), Poly(x, x, domain='ZZ')]"
   ]
  },
  {
   "cell_type": "code",
   "execution_count": null,
   "metadata": {},
   "outputs": [],
   "source": [
    "for _ in a:\n",
    "    print(my._Zassenhaus_Algorithm(_))"
   ]
  },
  {
   "cell_type": "code",
   "execution_count": null,
   "metadata": {},
   "outputs": [],
   "source": [
    "f = Poly(1, x, domain=GF(5))"
   ]
  },
  {
   "cell_type": "code",
   "execution_count": null,
   "metadata": {},
   "outputs": [],
   "source": [
    "f == f.zero"
   ]
  },
  {
   "cell_type": "code",
   "execution_count": null,
   "metadata": {},
   "outputs": [],
   "source": [
    "degree(f)"
   ]
  },
  {
   "cell_type": "code",
   "execution_count": null,
   "metadata": {},
   "outputs": [],
   "source": [
    "_f1"
   ]
  },
  {
   "cell_type": "code",
   "execution_count": null,
   "metadata": {},
   "outputs": [],
   "source": [
    "_f2"
   ]
  },
  {
   "cell_type": "code",
   "execution_count": null,
   "metadata": {},
   "outputs": [],
   "source": [
    "_f3"
   ]
  },
  {
   "cell_type": "code",
   "execution_count": null,
   "metadata": {},
   "outputs": [],
   "source": [
    "factor(_f1)"
   ]
  },
  {
   "cell_type": "code",
   "execution_count": null,
   "metadata": {},
   "outputs": [],
   "source": [
    "factor(_f2)"
   ]
  },
  {
   "cell_type": "code",
   "execution_count": null,
   "metadata": {},
   "outputs": [],
   "source": [
    "factor(_f3)"
   ]
  },
  {
   "cell_type": "code",
   "execution_count": null,
   "metadata": {},
   "outputs": [],
   "source": [
    "factor(f2)"
   ]
  },
  {
   "cell_type": "code",
   "execution_count": null,
   "metadata": {},
   "outputs": [],
   "source": [
    "%%time\n",
    "my.SquarefreeDecomposition(f1)"
   ]
  },
  {
   "cell_type": "code",
   "execution_count": null,
   "metadata": {},
   "outputs": [],
   "source": [
    "%%time\n",
    "my.SquarefreeDecomposition(f2)"
   ]
  },
  {
   "cell_type": "code",
   "execution_count": null,
   "metadata": {},
   "outputs": [],
   "source": [
    "%%time\n",
    "my.SquarefreeDecomposition(f3)"
   ]
  },
  {
   "cell_type": "code",
   "execution_count": null,
   "metadata": {},
   "outputs": [],
   "source": [
    "my."
   ]
  },
  {
   "cell_type": "markdown",
   "metadata": {},
   "source": [
    "# memo"
   ]
  },
  {
   "cell_type": "code",
   "execution_count": null,
   "metadata": {},
   "outputs": [],
   "source": [
    "%%time\n",
    "_ = [my.my_prime(i) for i in range(10, 100, 3)]"
   ]
  },
  {
   "cell_type": "code",
   "execution_count": null,
   "metadata": {},
   "outputs": [],
   "source": [
    "from sympy import *\n",
    "import numpy as np\n",
    "import math\n",
    "import tools as my\n",
    "import random\n",
    "import itertools\n",
    "import time"
   ]
  },
  {
   "cell_type": "code",
   "execution_count": null,
   "metadata": {},
   "outputs": [],
   "source": [
    "if __name__ == '__main__':\n",
    "    '''\n",
    "    L3とナップザックの動作確認\n",
    "    \n",
    "    '''\n",
    "    x = Symbol('x')\n",
    "    deg = 50; coeffs_inf = -3; coeffs_sup = 3\n",
    "    factors_num = 5\n",
    "    \n",
    "    '''\n",
    "    while True:\n",
    "        f = Poly(1, x, domain=ZZ)\n",
    "        for i in range(factors_num):\n",
    "            _deg = random.randint(2, deg//factors_num)\n",
    "            _f = random_poly(x, _deg, coeffs_inf, coeffs_sup, domain=ZZ, polys=True)\n",
    "            f *= _f\n",
    "        f *= random_poly(x, deg - degree(f), coeffs_inf, coeffs_sup, domain=ZZ, polys=True)\n",
    "        f = primitive(f)[1]\n",
    "        if gcd(f, diff(f, x)) == 1:\n",
    "            break\n",
    "    '''\n",
    "    f = Poly(216*x**15 + 468*x**14 + 480*x**13 \n",
    "             + 8*x**12 - 628*x**11 - 1069*x**10 - 575*x**9 \n",
    "             + 512*x**8 + 1053*x**7 + 367*x**6 - 236*x**5 - 464*x**4 \n",
    "             - 268*x**3 + 316*x**2 + 48*x - 48, x, domain='ZZ')\n",
    "    #'''\n",
    "    print(f); print('\\n')\n",
    "    print(factor(f))\n",
    "    print('------------------')\n",
    "    \n",
    "    #print('aaa' + str(my.L3_Algorithm(f)))\n",
    "    #print('bbb' + str(my.Knappsack_Algorithm(f)))"
   ]
  },
  {
   "cell_type": "code",
   "execution_count": null,
   "metadata": {},
   "outputs": [],
   "source": [
    "%%time\n",
    "factor(f)"
   ]
  },
  {
   "cell_type": "code",
   "execution_count": null,
   "metadata": {},
   "outputs": [],
   "source": [
    "%%time\n",
    "my._Zassenhaus_Algorithm(f)"
   ]
  },
  {
   "cell_type": "code",
   "execution_count": null,
   "metadata": {},
   "outputs": [],
   "source": [
    "%%time\n",
    "my.Zassenhaus_Algorithm(f)"
   ]
  },
  {
   "cell_type": "code",
   "execution_count": null,
   "metadata": {
    "scrolled": false
   },
   "outputs": [],
   "source": [
    "%%time\n",
    "my.Knappsack_Algorithm(f)"
   ]
  },
  {
   "cell_type": "code",
   "execution_count": null,
   "metadata": {},
   "outputs": [],
   "source": [
    "%%time\n",
    "my.L3_Algorithm(f)"
   ]
  },
  {
   "cell_type": "code",
   "execution_count": null,
   "metadata": {},
   "outputs": [],
   "source": []
  },
  {
   "cell_type": "code",
   "execution_count": null,
   "metadata": {},
   "outputs": [],
   "source": [
    "x = Symbol('x')\n",
    "_f1 = my_random_poly_ZZ(2, 6, 5, 2); # deg = 15\n",
    "_f2 = my_random_poly_ZZ(5, 2, 1, 4, 7, 2, 3, 6); # deg = 30\n",
    "_f3 = my_random_poly_ZZ(5, 2, 7, 6, 11, 10, 6, 3); # deg = 50\n",
    "#_f4 = my_random_poly_ZZ(7, 13, 21, 5, 4, 5, 12, 13, 17, 6, 7); # deg = 100"
   ]
  }
 ],
 "metadata": {
  "kernelspec": {
   "display_name": "Python 3",
   "language": "python",
   "name": "python3"
  },
  "language_info": {
   "codemirror_mode": {
    "name": "ipython",
    "version": 3
   },
   "file_extension": ".py",
   "mimetype": "text/x-python",
   "name": "python",
   "nbconvert_exporter": "python",
   "pygments_lexer": "ipython3",
   "version": "3.6.7"
  },
  "varInspector": {
   "cols": {
    "lenName": 16,
    "lenType": 16,
    "lenVar": 40
   },
   "kernels_config": {
    "python": {
     "delete_cmd_postfix": "",
     "delete_cmd_prefix": "del ",
     "library": "var_list.py",
     "varRefreshCmd": "print(var_dic_list())"
    },
    "r": {
     "delete_cmd_postfix": ") ",
     "delete_cmd_prefix": "rm(",
     "library": "var_list.r",
     "varRefreshCmd": "cat(var_dic_list()) "
    }
   },
   "types_to_exclude": [
    "module",
    "function",
    "builtin_function_or_method",
    "instance",
    "_Feature"
   ],
   "window_display": false
  }
 },
 "nbformat": 4,
 "nbformat_minor": 2
}
